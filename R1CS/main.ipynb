{
 "cells": [
  {
   "cell_type": "markdown",
   "metadata": {},
   "source": [
    "**Transforming out = x * y**\n",
    "\n",
    "In the circuit out = x * y, there are no intermediate variables. For our example, we will say we are proving 41 x 103 = 4223.\n",
    "Therefore, our witness vector is [1, 4223, 41, 103], or [1, out, x, y].\n",
    "\n",
    "![Alt text](./assets/image.png)\n",
    "\n",
    "each item in the matrix serves as an indicator variable for whether or not the variable the column corresponds to is present. (Technically, it’s the coefficient of the variable, but we’ll get to that later).\n",
    "For the left hand terms, x is present, so if the columns represent [1, out, x, y], then…\n",
    "\n",
    "A is [0, 0, 1, 0], because x is present, and none of the other variables are.\n",
    "B is [0, 0, 0, 1] because the variables in the right hand side are just y, and\n",
    "C is [0, 1, 0, 0] because we only have the out variable.\n",
    "\n",
    "\n",
    "We don’t have any constants anywhere so the 1 column is zero everywhere"
   ]
  },
  {
   "cell_type": "code",
   "execution_count": 7,
   "metadata": {},
   "outputs": [],
   "source": [
    "import numpy as np\n",
    "import random"
   ]
  },
  {
   "cell_type": "code",
   "execution_count": 9,
   "metadata": {},
   "outputs": [],
   "source": [
    "# define the matrices\n",
    "C = np.array([[0,1,0,0]])\n",
    "A = np.array([[0,0,1,0]])\n",
    "B = np.array([[0,0,0,1]])\n",
    "\n",
    "# witness vector\n",
    "witness = [1, 4223, 41, 103]\n",
    "\n",
    "# Multiplication is element-wise, not matrix multiplication. \n",
    "# Result contains a bool indicating an element-wise indicator that the equality is true for that element.\n",
    "result = C.dot(witness) == A.dot(witness) * B.dot(witness)\n",
    "\n",
    "# check that every element-wise equality is true\n",
    "assert result.all(), \"result contains an inequality\""
   ]
  },
  {
   "cell_type": "markdown",
   "metadata": {},
   "source": [
    "**out = x * y * z * u**\n",
    "\n",
    "```sh\n",
    "R1CS\n",
    "----\n",
    "\n",
    "v1 = x * y\n",
    "v2 = z * u\n",
    "out = v1 * v2\n",
    "```"
   ]
  },
  {
   "cell_type": "code",
   "execution_count": 11,
   "metadata": {},
   "outputs": [],
   "source": [
    "# Matrices formed using the left right and out terms\n",
    "\n",
    "A = np.array([[0,0,1,0,0,0,0,0],\n",
    "              [0,0,0,0,1,0,0,0],\n",
    "              [0,0,0,0,0,0,1,0]])\n",
    "              \n",
    "B = np.array([[0,0,0,1,0,0,0,0],\n",
    "              [0,0,0,0,0,1,0,0],\n",
    "              [0,0,0,0,0,0,0,1]])\n",
    "              \n",
    "C = np.array([[0,0,0,0,0,0,1,0],\n",
    "              [0,0,0,0,0,0,0,1],\n",
    "              [0,1,0,0,0,0,0,0]])\n",
    "\n",
    "x = random.randint(1,1000)\n",
    "y = random.randint(1,1000)\n",
    "z = random.randint(1,1000)\n",
    "u = random.randint(1,1000)\n"
   ]
  },
  {
   "cell_type": "code",
   "execution_count": 14,
   "metadata": {},
   "outputs": [
    {
     "name": "stdout",
     "output_type": "stream",
     "text": [
      "[          1 30851091700         935         166         286         695\n",
      "      155210      198770]\n"
     ]
    }
   ],
   "source": [
    "# compute the algebraic circuit\n",
    "out = x * y * z * u\n",
    "v1 = x*y\n",
    "v2 = z*u\n",
    "\n",
    "# create the witness vector\n",
    "w = np.array([1, out, x, y, z, u, v1, v2])\n",
    "print(w)"
   ]
  },
  {
   "cell_type": "code",
   "execution_count": 16,
   "metadata": {},
   "outputs": [
    {
     "name": "stdout",
     "output_type": "stream",
     "text": [
      "A Vector :  [   935    286 155210]\n",
      "B Vector :  [   166    695 198770]\n",
      "C Vector :  [     155210      198770 30851091700]\n"
     ]
    }
   ],
   "source": [
    "print('A Vector : ',A.dot(w))\n",
    "print('B Vector : ',B.dot(w))\n",
    "print('C Vector : ',C.dot(w))\n",
    "\n",
    "result = C.dot(w) == np.multiply(A.dot(w), B.dot(w))"
   ]
  },
  {
   "cell_type": "markdown",
   "metadata": {},
   "source": [
    "**Handling addition with constants**\n",
    "\n",
    "out = x * y + 2\n",
    "=> out - 2 = x * y"
   ]
  },
  {
   "cell_type": "code",
   "execution_count": 17,
   "metadata": {},
   "outputs": [],
   "source": [
    "# Define the matrices\n",
    "A = np.array([[0,0,1,0]])\n",
    "B = np.array([[0,0,0,1]])\n",
    "C = np.array([[-2,1,0,0]])\n",
    "\n",
    "# pick random values to test the equation\n",
    "x = random.randint(1,1000)\n",
    "y = random.randint(1,1000)\n",
    "out = x * y + 2\n",
    "# witness vector\n",
    "w = np.array([1, out, x, y])\n",
    "\n",
    "# check the equality\n",
    "result = C.dot(w) == np.multiply(A.dot(w),B.dot(w))\n",
    "assert result.all(), \"result contains an inequality\""
   ]
  },
  {
   "cell_type": "markdown",
   "metadata": {},
   "source": [
    "**Multiplication with constants**\n",
    "\n",
    "`IMP : Keep this in mind \"Addition is free in zk-snarks\"`\n",
    "\n",
    "out = 2x^2 + y\n",
    "=> out - y = 2x * x\n",
    "\n",
    "![Alt text](./assets/image-1.png)\n",
    "\n",
    "![Alt text](./assets/image-2.png)"
   ]
  },
  {
   "cell_type": "markdown",
   "metadata": {},
   "source": [
    "**Larger Example**\n",
    "\n",
    "![Alt text](./assets/image-3.png)\n",
    "\n",
    "![Alt text](./assets/image-4.png)\n",
    "\n",
    "![Alt text](./assets/image-5.png)\n",
    "\n",
    "And our matrices will have three rows, since we have three constraints:\n",
    "\n",
    "1. v₁= 3xx\n",
    "2. v₂ = v₁y\n",
    "3. -v₂ + x + 2y - 3 + out = 5xy\n",
    "\n",
    "![Alt text](./assets/image-6.png)"
   ]
  },
  {
   "cell_type": "code",
   "execution_count": 19,
   "metadata": {},
   "outputs": [],
   "source": [
    "A = np.array([[0,0,3,0,0,0],\n",
    "               [0,0,0,0,1,0],\n",
    "               [0,0,1,0,0,0]])\n",
    "\n",
    "B = np.array([[0,0,1,0,0,0],\n",
    "               [0,0,0,1,0,0],\n",
    "               [0,0,0,5,0,0]])\n",
    "\n",
    "C = np.array([[0,0,0,0,1,0],\n",
    "               [0,0,0,0,0,1],\n",
    "               [-3,1,1,2,0,-1]])\n",
    "\n",
    "# pick random values for x and y\n",
    "x = random.randint(1,1000)\n",
    "y = random.randint(1,1000)\n",
    "\n",
    "# this is our orignal formula\n",
    "out = 3 * x * x * y + 5 * x * y - x- 2*y + 3\n",
    "# the witness vector with the intermediate variables inside\n",
    "v1 = 3*x*x\n",
    "v2 = v1 * y\n",
    "w = np.array([1, out, x, y, v1, v2])\n",
    "\n",
    "result = C.dot(w) == np.multiply(A.dot(w),B.dot(w))\n",
    "assert result.all(), \"result contains an inequality\""
   ]
  }
 ],
 "metadata": {
  "kernelspec": {
   "display_name": "Python 3",
   "language": "python",
   "name": "python3"
  },
  "language_info": {
   "codemirror_mode": {
    "name": "ipython",
    "version": 3
   },
   "file_extension": ".py",
   "mimetype": "text/x-python",
   "name": "python",
   "nbconvert_exporter": "python",
   "pygments_lexer": "ipython3",
   "version": "3.10.12"
  }
 },
 "nbformat": 4,
 "nbformat_minor": 2
}
