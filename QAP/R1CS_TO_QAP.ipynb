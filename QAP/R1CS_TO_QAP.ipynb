{
 "cells": [
  {
   "cell_type": "markdown",
   "metadata": {},
   "source": [
    "# R1CS to QAP\n",
    "\n",
    "We take the following example : \n",
    "\n",
    "**out = x⁴ - 5y²x²**\n",
    "\n",
    "```sh\n",
    "v1 = x * x\n",
    "v2 = v1 * v1         # x^4\n",
    "v3 = -5y * y\n",
    "-v2 + out = v3*v1    # -5y^2 * x^2\n",
    "```"
   ]
  },
  {
   "cell_type": "code",
   "execution_count": 8,
   "metadata": {},
   "outputs": [],
   "source": [
    "import numpy as np\n",
    "\n",
    "# Python lib for modular arithmetic\n",
    "import galois"
   ]
  },
  {
   "cell_type": "code",
   "execution_count": 9,
   "metadata": {},
   "outputs": [],
   "source": [
    "# 1, out, x, y, v1, v2, v3\n",
    "L = np.array([\n",
    "    [0, 0, 1, 0, 0, 0, 0],\n",
    "    [0, 0, 0, 0, 1, 0, 0],\n",
    "    [0, 0, 0, -5, 0, 0, 0],\n",
    "    [0, 0, 0, 0, 0, 0, 1],\n",
    "])\n",
    "\n",
    "R = np.array([\n",
    "    [0, 0, 1, 0, 0, 0, 0],\n",
    "    [0, 0, 0, 0, 1, 0, 0],\n",
    "    [0, 0, 0, 1, 0, 0, 0],\n",
    "    [0, 0, 0, 0, 1, 0, 0],\n",
    "])\n",
    "\n",
    "O = np.array([\n",
    "    [0, 0, 0, 0, 1, 0, 0],\n",
    "    [0, 0, 0, 0, 0, 1, 0],\n",
    "    [0, 0, 0, 0, 0, 0, 1],\n",
    "    [0, 1, 0, 0, 0, -1, 0],\n",
    "])"
   ]
  },
  {
   "cell_type": "code",
   "execution_count": 10,
   "metadata": {},
   "outputs": [
    {
     "name": "stdout",
     "output_type": "stream",
     "text": [
      "[  1 -64   4  -2  16 256 -20]\n",
      "[  16  256  -20 -320]\n",
      "[  16  256  -20 -320]\n"
     ]
    }
   ],
   "source": [
    "x = 4\n",
    "y = -2\n",
    "v1 = x * x\n",
    "v2 = v1 * v1         # x^4\n",
    "v3 = -5*y * y\n",
    "out = v3*v1 + v2    # -5y^2 * x^2\n",
    "\n",
    "witness = np.array([1, out, x, y, v1, v2, v3])\n",
    "print(witness)\n",
    "\n",
    "var_1 = np.matmul(L, witness) * np.matmul(R, witness)\n",
    "print(var_1)\n",
    "\n",
    "var_2 = np.matmul(O, witness)\n",
    "print(var_2)\n",
    "\n",
    "assert all(np.equal(np.matmul(L, witness) * np.matmul(R, witness), np.matmul(O, witness))), \"not equal\""
   ]
  },
  {
   "cell_type": "markdown",
   "metadata": {},
   "source": [
    "### Finite Field Arithmetic Working"
   ]
  },
  {
   "cell_type": "code",
   "execution_count": 11,
   "metadata": {},
   "outputs": [
    {
     "name": "stdout",
     "output_type": "stream",
     "text": [
      "1\n"
     ]
    }
   ],
   "source": [
    "GF = galois.GF(79) # Defining the field\n",
    "\n",
    "a = GF(70)\n",
    "b = GF(10)\n",
    "\n",
    "print(a + b)"
   ]
  },
  {
   "cell_type": "code",
   "execution_count": 12,
   "metadata": {},
   "outputs": [],
   "source": [
    "# ================================================\n",
    "# Redefining the matrices for our Modulo 79 field.\n",
    "# ================================================\n",
    "\n",
    "L = np.array([\n",
    "    [0, 0, 1, 0, 0, 0, 0],\n",
    "    [0, 0, 0, 0, 1, 0, 0],\n",
    "    [0, 0, 0, 74, 0, 0, 0],\n",
    "    [0, 0, 0, 0, 0, 0, 1],\n",
    "])\n",
    "\n",
    "R = np.array([\n",
    "    [0, 0, 1, 0, 0, 0, 0],\n",
    "    [0, 0, 0, 0, 1, 0, 0],\n",
    "    [0, 0, 0, 1, 0, 0, 0],\n",
    "    [0, 0, 0, 0, 1, 0, 0],\n",
    "])\n",
    "\n",
    "O = np.array([\n",
    "    [0, 0, 0, 0, 1, 0, 0],\n",
    "    [0, 0, 0, 0, 0, 1, 0],\n",
    "    [0, 0, 0, 0, 0, 0, 1],\n",
    "    [0, 1, 0, 0, 0, 78, 0],\n",
    "])"
   ]
  },
  {
   "cell_type": "code",
   "execution_count": 21,
   "metadata": {},
   "outputs": [
    {
     "name": "stdout",
     "output_type": "stream",
     "text": [
      "Witness [GF] :  [ 1 15  4 77 16 19 59]\n"
     ]
    }
   ],
   "source": [
    "L_galois = GF(L)\n",
    "R_galois = GF(R)\n",
    "O_galois = GF(O)\n",
    "\n",
    "x = GF(4)\n",
    "y = GF(79-2) # we are using 79 as the field size, so 79 - 2 is -2. We can't use negative number\n",
    "v1 = x * x\n",
    "v2 = v1 * v1         # x^4\n",
    "v3 = GF(79-5)*y * y\n",
    "out = v3*v1 + v2    # -5y^2 * x^2\n",
    "\n",
    "witness = GF(np.array([1, out, x, y, v1, v2, v3]))\n",
    "\n",
    "print(\"Witness [GF] : \", witness)\n",
    "\n",
    "assert all(np.equal(np.matmul(L_galois, witness) * np.matmul(R_galois, witness), np.matmul(O_galois, witness))), \"not equal\""
   ]
  },
  {
   "cell_type": "markdown",
   "metadata": {},
   "source": [
    "### Polynomial Interpolation in Finite Fields"
   ]
  },
  {
   "cell_type": "code",
   "execution_count": 22,
   "metadata": {},
   "outputs": [
    {
     "name": "stdout",
     "output_type": "stream",
     "text": [
      "[Poly(0, GF(79)) Poly(0, GF(79)) Poly(13x^3 + 41x^2 + 22x + 4, GF(79))\n",
      " Poly(42x^3 + 22x^2 + 35x + 59, GF(79))\n",
      " Poly(40x^3 + 75x^2 + 49x + 73, GF(79)) Poly(0, GF(79))\n",
      " Poly(66x^3 + 78x^2 + 15x + 78, GF(79))]\n",
      "[Poly(0, GF(79)) Poly(0, GF(79)) Poly(13x^3 + 41x^2 + 22x + 4, GF(79))\n",
      " Poly(39x^3 + 43x^2 + 72x + 4, GF(79))\n",
      " Poly(27x^3 + 74x^2 + 64x + 72, GF(79)) Poly(0, GF(79)) Poly(0, GF(79))]\n",
      "[Poly(0, GF(79)) Poly(66x^3 + 78x^2 + 15x + 78, GF(79)) Poly(0, GF(79))\n",
      " Poly(0, GF(79)) Poly(13x^3 + 41x^2 + 22x + 4, GF(79))\n",
      " Poly(53x^3 + 76x^2 + 34x + 74, GF(79))\n",
      " Poly(39x^3 + 43x^2 + 72x + 4, GF(79))]\n"
     ]
    }
   ],
   "source": [
    "def interpolate_column(col):\n",
    "    xs = GF(np.array([1,2,3,4]))\n",
    "    # print(galois.lagrange_poly(xs, col))\n",
    "    return galois.lagrange_poly(xs, col)\n",
    "\n",
    "# axis 0 is the columns. apply_along_axis is the same as doing a for loop over the columns and collecting the results in an array\n",
    "U_polys = np.apply_along_axis(interpolate_column, 0, L_galois)\n",
    "V_polys = np.apply_along_axis(interpolate_column, 0, R_galois)\n",
    "W_polys = np.apply_along_axis(interpolate_column, 0, O_galois)\n",
    "\n",
    "print(U_polys)\n",
    "print(V_polys)\n",
    "print(W_polys)"
   ]
  },
  {
   "cell_type": "markdown",
   "metadata": {},
   "source": [
    "![Alt text](./assets/image-17.png)"
   ]
  },
  {
   "cell_type": "code",
   "execution_count": 24,
   "metadata": {},
   "outputs": [
    {
     "name": "stdout",
     "output_type": "stream",
     "text": [
      "Term 1 :  78x^3 + 76x^2 + 28x + 59\n",
      "Term 2 :  11x^3 + 77x^2 + 20x + 54\n",
      "Term 3 :  3x^3 + 40x^2 + 20x + 32\n"
     ]
    }
   ],
   "source": [
    "from functools import reduce\n",
    "\n",
    "\n",
    "def inner_product_polynomials_with_witness(polys, witness):\n",
    "    mul_ = lambda x, y: x * y\n",
    "    sum_ = lambda x, y: x + y\n",
    "    return reduce(sum_, map(mul_, polys, witness))\n",
    "\n",
    "term_1 = inner_product_polynomials_with_witness(U_polys, witness)\n",
    "term_2 = inner_product_polynomials_with_witness(V_polys, witness)\n",
    "term_3 = inner_product_polynomials_with_witness(W_polys, witness)\n",
    "\n",
    "print(\"Term 1 : \",term_1)\n",
    "print(\"Term 2 : \",term_2)\n",
    "print(\"Term 3 : \",term_3)"
   ]
  },
  {
   "cell_type": "code",
   "execution_count": 27,
   "metadata": {},
   "outputs": [
    {
     "name": "stdout",
     "output_type": "stream",
     "text": [
      "T(x) :  x^4 + 69x^3 + 35x^2 + 29x + 24\n",
      "H(x) :  68x^2 + 17x + 59\n"
     ]
    }
   ],
   "source": [
    "# t = (x - 1)(x - 2)(x - 3)(x - 4)\n",
    "t = galois.Poly([1, 78], field = GF) * galois.Poly([1, 77], field = GF) * galois.Poly([1, 76], field = GF) * galois.Poly([1, 75], field = GF)\n",
    "print(\"T(x) : \", t)\n",
    "\n",
    "h = (term_1 * term_2 - term_3) // t\n",
    "print(\"H(x) : \", h)\n",
    "\n",
    "# To check for remainder\n",
    "assert term_1 * term_2 == term_3 + h * t, \"division has a remainder\""
   ]
  }
 ],
 "metadata": {
  "kernelspec": {
   "display_name": "Python 3",
   "language": "python",
   "name": "python3"
  },
  "language_info": {
   "codemirror_mode": {
    "name": "ipython",
    "version": 3
   },
   "file_extension": ".py",
   "mimetype": "text/x-python",
   "name": "python",
   "nbconvert_exporter": "python",
   "pygments_lexer": "ipython3",
   "version": "3.10.12"
  }
 },
 "nbformat": 4,
 "nbformat_minor": 2
}
