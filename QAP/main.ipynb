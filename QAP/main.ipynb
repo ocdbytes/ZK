{
 "cells": [
  {
   "cell_type": "markdown",
   "metadata": {},
   "source": [
    "## Polynomials under polynomial addition and polynomial multiplication are also a ring"
   ]
  },
  {
   "cell_type": "code",
   "execution_count": 5,
   "metadata": {},
   "outputs": [
    {
     "name": "stderr",
     "output_type": "stream",
     "text": [
      "/usr/lib/python3/dist-packages/scipy/__init__.py:146: UserWarning: A NumPy version >=1.17.3 and <1.25.0 is required for this version of SciPy (detected version 1.26.2\n",
      "  warnings.warn(f\"A NumPy version >={np_minversion} and <{np_maxversion}\"\n"
     ]
    }
   ],
   "source": [
    "from numpy import poly1d\n",
    "import numpy as np\n",
    "from scipy.interpolate import lagrange"
   ]
  },
  {
   "cell_type": "code",
   "execution_count": 6,
   "metadata": {},
   "outputs": [
    {
     "name": "stdout",
     "output_type": "stream",
     "text": [
      "p1 : \n",
      "    2\n",
      "9 x + 4 x - 6\n",
      "\n",
      "p2 : \n",
      "  \n",
      "4 x + 2\n",
      "\n",
      "res : \n",
      "     3      2\n",
      "36 x + 34 x - 16 x - 12\n"
     ]
    }
   ],
   "source": [
    "p1 = poly1d([9, 4, -6])\n",
    "p2 = poly1d([4, 2])\n",
    "print(\"p1 : \\n\", p1)\n",
    "print(\"\\np2 : \\n\", p2)\n",
    "res = p1 * p2\n",
    "print(\"\\nres : \\n\", res)"
   ]
  },
  {
   "cell_type": "markdown",
   "metadata": {},
   "source": [
    "**To Research**\n",
    "\n",
    "**Theorem**: there exists a Ring Homomorphism from column vectors of dimension n with real number elements to polynomials with real coefficients."
   ]
  },
  {
   "cell_type": "markdown",
   "metadata": {},
   "source": [
    "**Theorem**: Given n points on a cartesian (x, y) plane, they can be uniquely interpolated by a polynomial of degree n - 1. If the degree is not constrained, an infinite number of polynomials of degree n - 1 or higher can interpolate those points.\n",
    "\n",
    "\n",
    "**Example**: A single point can be uniquely interpolated by a vertical line (a polynomial of degree zero). Two points can be uniquely interpolated by a straight line (a polynomial of degree one). This holds for all larger degrees.\n",
    "\n",
    "\n",
    "To make this a little more concrete, if we are encoding n-dimensional vectors as polynomials, we need n predetermined points. Let’s say n = 3. We will then pick the points x = 1, x = 2, and x = 3 (this is arbitrary, but those values are convenient). If we are trying to encode [4, 12, 6], then we want a polynomial that travels through the following cartesian points:\n",
    "\n",
    "\n",
    "(1, 4), (2, 12), (3, 6)\n",
    "\n"
   ]
  },
  {
   "cell_type": "code",
   "execution_count": 9,
   "metadata": {},
   "outputs": [
    {
     "name": "stdout",
     "output_type": "stream",
     "text": [
      "    2\n",
      "-7 x + 29 x - 18\n",
      "4.0\n",
      "12.0\n",
      "6.0\n"
     ]
    }
   ],
   "source": [
    "x = np.array([1,2,3])\n",
    "y = np.array([4,12,6])\n",
    "\n",
    "polyC = lagrange(x, y)\n",
    "\n",
    "print(polyC)\n",
    "# -7x^2 + 29x - 18# check that it passes through x = {1,2,3} as expected\n",
    "# here [4,12,6] can be represented as polyC.\n",
    "\n",
    "print(polyC(1))\n",
    "# 4.0\n",
    "print(polyC(2))\n",
    "# 12.0\n",
    "print(polyC(3))\n",
    "# 6.0"
   ]
  },
  {
   "cell_type": "markdown",
   "metadata": {},
   "source": [
    "**Adding two vectors is homomorphic to adding two polynomials**\n",
    "\n",
    "![Ex:](./assets/image.png)"
   ]
  },
  {
   "cell_type": "code",
   "execution_count": 11,
   "metadata": {},
   "outputs": [
    {
     "name": "stdout",
     "output_type": "stream",
     "text": [
      "   2\n",
      "1 x - 4 x + 4 \n",
      "-----------------------------\n",
      "    2\n",
      "-4 x + 18 x - 15 \n",
      "-----------------------------\n",
      "    2\n",
      "-3 x + 14 x - 11 \n",
      "-----------------------------\n",
      "[0.0, 5.0, 4.0]\n"
     ]
    }
   ],
   "source": [
    "x = np.array([1,2,3])\n",
    "y_v1 = np.array([1, 0, 1])\n",
    "y_v2 = np.array([-1, 5, 3])\n",
    "poly_v1 = lagrange(x, y_v1)\n",
    "poly_v2 = lagrange(x, y_v2)\n",
    "\n",
    "print(poly_v1, \"\\n-----------------------------\")\n",
    "# 1 x^2 - 4 x + 4\n",
    "print(poly_v2, \"\\n-----------------------------\")\n",
    "#-4 x^2 + 18 x - 15\n",
    "\n",
    "poly_v3 = poly_v1 + poly_v2\n",
    "\n",
    "print(poly_v3, \"\\n-----------------------------\")\n",
    "# -3 x^2 + 14 x - 11\n",
    "print([poly_v3(1), poly_v3(2), poly_v3(3)])\n",
    "# [0.0, 5.0, 4.0]"
   ]
  },
  {
   "cell_type": "markdown",
   "metadata": {},
   "source": [
    "**The Hadamard product of two vectors is homomorphic to multiplying two polynomials**\n",
    "\n",
    "![Ex :](./assets/image-1.png)"
   ]
  },
  {
   "cell_type": "code",
   "execution_count": 12,
   "metadata": {},
   "outputs": [
    {
     "name": "stdout",
     "output_type": "stream",
     "text": [
      "     2\n",
      "2.5 x - 9.5 x + 8 \n",
      "-----------------------------\n",
      "    2\n",
      "-2 x + 6 x - 2 \n",
      "-----------------------------\n",
      "    4      3      2\n",
      "-5 x + 34 x - 78 x + 67 x - 16 \n",
      "-----------------------------\n",
      "[2.0, -2.0, -4.0]\n"
     ]
    }
   ],
   "source": [
    "x = np.array([1,2,3])\n",
    "y_v1 = np.array([1, -1, 2])\n",
    "y_v2 = np.array([2, 2, -2])\n",
    "poly_v1 = lagrange(x, y_v1)\n",
    "poly_v2 = lagrange(x, y_v2)\n",
    "\n",
    "print(poly_v1, \"\\n-----------------------------\")\n",
    "# 2.5 x^2 - 9.5 x + 8\n",
    "print(poly_v2, \"\\n-----------------------------\")\n",
    "# -2 x^2 + 6 x - 2\n",
    "\n",
    "poly_v3 = poly_v1 * poly_v2\n",
    "print(poly_v3, \"\\n-----------------------------\")\n",
    "# -5 x^4 + 34 x^3 - 78 x^2 + 67 x - 16\n",
    "print([poly_v3(1), poly_v3(2), poly_v3(3)])\n",
    "# [2.0, -2.0, -4.0]"
   ]
  },
  {
   "cell_type": "markdown",
   "metadata": {},
   "source": [
    "**Multiplying a vector by a scalar is homomorphic to multiplying the polynomial by the same scalar**\n",
    "\n",
    "![Alt text](./assets/image-2.png)"
   ]
  },
  {
   "cell_type": "code",
   "execution_count": 14,
   "metadata": {},
   "outputs": [
    {
     "name": "stdout",
     "output_type": "stream",
     "text": [
      "    2\n",
      "-2 x + 7 x - 4 \n",
      "-----------------------------\n",
      "    2\n",
      "-6 x + 21 x - 12 \n",
      "-----------------------------\n",
      "[3.0, 6.0, -3.0]\n"
     ]
    }
   ],
   "source": [
    "x = np.array([1,2,3])\n",
    "y_v1 = np.array([1, 2, -1])\n",
    "poly_v1 = lagrange(x, y_v1)\n",
    "\n",
    "print(poly_v1, \"\\n-----------------------------\")\n",
    "# -2 x^2 + 7 x - 4\n",
    "# IMPORTANT: We multiply by a constant here\n",
    "poly_final = poly_v1 * 3\n",
    "print(poly_final, \"\\n-----------------------------\")\n",
    "# -6 x^2 + 21 x - 12\n",
    "print([poly_final(1), poly_final(2), poly_final(3)])\n",
    "# [3.0, 6.0, -3.0]"
   ]
  }
 ],
 "metadata": {
  "kernelspec": {
   "display_name": "Python 3",
   "language": "python",
   "name": "python3"
  },
  "language_info": {
   "codemirror_mode": {
    "name": "ipython",
    "version": 3
   },
   "file_extension": ".py",
   "mimetype": "text/x-python",
   "name": "python",
   "nbconvert_exporter": "python",
   "pygments_lexer": "ipython3",
   "version": "3.10.12"
  }
 },
 "nbformat": 4,
 "nbformat_minor": 2
}
