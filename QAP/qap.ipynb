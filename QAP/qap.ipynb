{
 "cells": [
  {
   "cell_type": "code",
   "execution_count": 10,
   "metadata": {},
   "outputs": [],
   "source": [
    "from scipy.interpolate import lagrange\n",
    "import numpy as np\n",
    "from numpy import poly1d"
   ]
  },
  {
   "cell_type": "markdown",
   "metadata": {},
   "source": [
    "# Quadratic Arithmetic Program Example :\n",
    "\n",
    "Equation : \n",
    "\n",
    "![I1](./assets/image-3.png)\n",
    "\n",
    "After Converting the Polynomial :\n",
    "\n",
    "![I2](./assets/image-4.png)\n",
    "\n",
    "Witness Vector :\n",
    "\n",
    "![I3](./assets/image-5.png)\n",
    "\n",
    "`L`, `R`, `S`\n",
    "\n",
    "\n",
    "![I4](./assets/image-6.png)"
   ]
  },
  {
   "cell_type": "markdown",
   "metadata": {},
   "source": [
    "Let’s set our x values to be x = {1,2,3} as usual :\n",
    "\n",
    "![I7](./assets/image-7.png)"
   ]
  },
  {
   "cell_type": "code",
   "execution_count": 3,
   "metadata": {},
   "outputs": [
    {
     "name": "stdout",
     "output_type": "stream",
     "text": [
      "     2\n",
      "0.5 x - 2.5 x + 3\n"
     ]
    }
   ],
   "source": [
    "# for x_1\n",
    "\n",
    "xs = [1,2,3]\n",
    "ys = [1,0,0]\n",
    "print(lagrange(xs, ys))"
   ]
  },
  {
   "cell_type": "markdown",
   "metadata": {},
   "source": [
    "![I8](./assets/image-8.png)"
   ]
  },
  {
   "cell_type": "code",
   "execution_count": 4,
   "metadata": {},
   "outputs": [
    {
     "name": "stdout",
     "output_type": "stream",
     "text": [
      "    2\n",
      "-1 x + 4 x - 3\n"
     ]
    }
   ],
   "source": [
    "# for x_2\n",
    "\n",
    "xs = [1,2,3]\n",
    "ys = [0,1,0]\n",
    "print(lagrange(xs, ys))"
   ]
  },
  {
   "cell_type": "markdown",
   "metadata": {},
   "source": [
    "![I9](./assets/image-9.png)"
   ]
  },
  {
   "cell_type": "code",
   "execution_count": 5,
   "metadata": {},
   "outputs": [
    {
     "name": "stdout",
     "output_type": "stream",
     "text": [
      "   2\n",
      "2 x - 6 x + 4\n"
     ]
    }
   ],
   "source": [
    "# for x_4\n",
    "\n",
    "xs = [1,2,3]\n",
    "ys = [0,0,4]\n",
    "print(lagrange(xs, ys))"
   ]
  },
  {
   "cell_type": "markdown",
   "metadata": {},
   "source": [
    "Now our vector U =>\n",
    "\n",
    "![I10](./assets/image-10.png)\n",
    "\n",
    "By repeating the process we would get V and W as :\n",
    "\n",
    "![I11](./assets/image-11.png)"
   ]
  },
  {
   "cell_type": "markdown",
   "metadata": {},
   "source": [
    "let’s pick x_1 = 3, x_2 = 4. This will compute the intermediate values as follows :\n",
    "\n",
    "![I12](./assets/image-12.png)\n",
    "\n",
    "witness vector : [1, 199, 3, 4, 9, 16]"
   ]
  },
  {
   "cell_type": "code",
   "execution_count": 9,
   "metadata": {},
   "outputs": [
    {
     "name": "stdout",
     "output_type": "stream",
     "text": [
      "U.a [ 29.5 -87.5  61. ]\n",
      "V.a [-1  4  0]\n",
      "W.a [  84.5 -246.5  171. ]\n"
     ]
    }
   ],
   "source": [
    "Ua = np.array([[0, 0, 0.5, -1, 0, 2],\n",
    "                [0, 0, -2.5, 4, 0, -6],\n",
    "                [0, 0, 3, -3, 0, 4]])\n",
    "\n",
    "witness = [1, 199, 3, 4, 9, 16]\n",
    "\n",
    "print(\"U.a\", np.matmul(Ua, witness))\n",
    "\n",
    "Va = np.array([[0, 0, 1, -1, 0, 0],\n",
    "                 [0, 0, -4, 4, 0, 0],\n",
    "                 [0, 0, 4, -3, 0, 0]])\n",
    "                 \n",
    "print(\"V.a\",np.matmul(Va, witness))\n",
    "\n",
    "Wa = np.array([[1, 0.5, 0, 0, 0, -1],\n",
    "                 [-3, -1.5, 0, 0, -1, 4],\n",
    "                 [2, 1, 0, 0, 2, -3]])\n",
    "                 \n",
    "print(\"W.a\", np.matmul(Wa, witness))"
   ]
  },
  {
   "cell_type": "markdown",
   "metadata": {},
   "source": [
    "At this point, it becomes clear why we have the h(x)t(x) term. When (U·a) and (V·a) are multiplied, we’ll get a degree 4 polynomial, but (W·a) is of degree 2.\n",
    "\n",
    "\n",
    "As long as we add a polynomial that interpolates zero and has degree 4, we can balance it out.\n",
    "\n",
    "\n",
    "Using the formula from earlier, we can compute h with :\n",
    "\n",
    "![I13](./assets/image-13.png)"
   ]
  },
  {
   "cell_type": "code",
   "execution_count": 11,
   "metadata": {},
   "outputs": [
    {
     "data": {
      "text/plain": [
       "(poly1d([-29.5,  28.5]), poly1d([0.]))"
      ]
     },
     "execution_count": 11,
     "metadata": {},
     "output_type": "execute_result"
    }
   ],
   "source": [
    "a = poly1d([29.5, -87.5, 61])\n",
    "b = poly1d([-1, 4, 0])\n",
    "c = poly1d([84.5, -246.5, 171])\n",
    "t = poly1d([1, -1])*poly1d([1, -2])*poly1d([1, -3])\n",
    "\n",
    "(a * b - c) / t"
   ]
  },
  {
   "cell_type": "markdown",
   "metadata": {},
   "source": [
    "h(x) :\n",
    "\n",
    "![I14](./assets/image-14.png)\n",
    "\n",
    "Now : \n",
    "\n",
    "![I15](./assets/image-15.png)\n",
    "\n",
    "Using encrypted polynomial evaluation at a random point τ, we have\n",
    "\n",
    "![I16](./assets/image-16.png)\n",
    "\n",
    "Then the verifier computes\n",
    "\n",
    "pairing([A], [B]) = [C]"
   ]
  }
 ],
 "metadata": {
  "kernelspec": {
   "display_name": "Python 3",
   "language": "python",
   "name": "python3"
  },
  "language_info": {
   "codemirror_mode": {
    "name": "ipython",
    "version": 3
   },
   "file_extension": ".py",
   "mimetype": "text/x-python",
   "name": "python",
   "nbconvert_exporter": "python",
   "pygments_lexer": "ipython3",
   "version": "3.10.12"
  }
 },
 "nbformat": 4,
 "nbformat_minor": 2
}
