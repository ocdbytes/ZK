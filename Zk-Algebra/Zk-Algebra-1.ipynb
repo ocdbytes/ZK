{
 "cells": [
  {
   "cell_type": "markdown",
   "id": "163fcc05",
   "metadata": {},
   "source": [
    "### Hashing to Groups\n",
    "\n",
    "#### Hash Functions\n",
    "\n",
    "a hash function is any function that can be used to map data of arbitrary\n",
    "size to fixed-size values\n",
    "\n",
    "```sh\n",
    "H : {0, 1}∗ → {0, 1}k\n",
    "```\n",
    "\n",
    "#### SHA256\n",
    "\n",
    "```sh\n",
    "SHA256(<>) = e3b0c44298fc1c149afbf4c8996fb92427ae41e4649b934ca495991b7852b855\n",
    "```"
   ]
  },
  {
   "cell_type": "code",
   "execution_count": 1,
   "id": "bea9c2f4",
   "metadata": {},
   "outputs": [],
   "source": [
    "import hashlib"
   ]
  },
  {
   "cell_type": "code",
   "execution_count": 3,
   "id": "c4c24ebf",
   "metadata": {},
   "outputs": [
    {
     "data": {
      "text/plain": [
       "b''"
      ]
     },
     "execution_count": 3,
     "metadata": {},
     "output_type": "execute_result"
    }
   ],
   "source": [
    "test = \"e3b0c44298fc1c149afbf4c8996fb92427ae41e4649b934ca495991b7852b855\"\n",
    "empty_string = \"\"\n",
    "binary_string = empty_string.encode()\n",
    "binary_string"
   ]
  },
  {
   "cell_type": "code",
   "execution_count": 4,
   "id": "f28fde76",
   "metadata": {},
   "outputs": [
    {
     "data": {
      "text/plain": [
       "<sha256 _hashlib.HASH object @ 0x7f487f155590>"
      ]
     },
     "execution_count": 4,
     "metadata": {},
     "output_type": "execute_result"
    }
   ],
   "source": [
    "hasher = hashlib.sha256(binary_string)\n",
    "hasher"
   ]
  },
  {
   "cell_type": "code",
   "execution_count": 5,
   "id": "b92fe62e",
   "metadata": {},
   "outputs": [
    {
     "data": {
      "text/plain": [
       "'e3b0c44298fc1c149afbf4c8996fb92427ae41e4649b934ca495991b7852b855'"
      ]
     },
     "execution_count": 5,
     "metadata": {},
     "output_type": "execute_result"
    }
   ],
   "source": [
    "result = hasher.hexdigest()\n",
    "result"
   ]
  },
  {
   "cell_type": "code",
   "execution_count": 7,
   "id": "a848685a",
   "metadata": {},
   "outputs": [
    {
     "data": {
      "text/plain": [
       "<class 'str'>"
      ]
     },
     "execution_count": 7,
     "metadata": {},
     "output_type": "execute_result"
    }
   ],
   "source": [
    "type(result)  # Sage represents digests as strings"
   ]
  },
  {
   "cell_type": "code",
   "execution_count": 9,
   "id": "0c24a21a",
   "metadata": {},
   "outputs": [
    {
     "data": {
      "text/plain": [
       "102987336249554097029535212322581322789799900648198034993379397001115665086549"
      ]
     },
     "execution_count": 9,
     "metadata": {},
     "output_type": "execute_result"
    }
   ],
   "source": [
    "d = ZZ(\"0x\" + result) # Conversion to Integer\n",
    "d"
   ]
  },
  {
   "cell_type": "code",
   "execution_count": 10,
   "id": "0b0bfef3",
   "metadata": {},
   "outputs": [
    {
     "data": {
      "text/plain": [
       "True"
      ]
     },
     "execution_count": 10,
     "metadata": {},
     "output_type": "execute_result"
    }
   ],
   "source": [
    "d.str(16) == test"
   ]
  },
  {
   "cell_type": "code",
   "execution_count": 11,
   "id": "fb8f35a2",
   "metadata": {},
   "outputs": [
    {
     "data": {
      "text/plain": [
       "'e3b0c44298fc1c149afbf4c8996fb92427ae41e4649b934ca495991b7852b855'"
      ]
     },
     "execution_count": 11,
     "metadata": {},
     "output_type": "execute_result"
    }
   ],
   "source": [
    "# Representations of Hash\n",
    "\n",
    "d.str(16) # HEX"
   ]
  },
  {
   "cell_type": "code",
   "execution_count": 12,
   "id": "906da185",
   "metadata": {},
   "outputs": [
    {
     "data": {
      "text/plain": [
       "'1110001110110000110001000100001010011000111111000001110000010100100110101111101111110100110010001001100101101111101110010010010000100111101011100100000111100100011001001001101110010011010011001010010010010101100110010001101101111000010100101011100001010101'"
      ]
     },
     "execution_count": 12,
     "metadata": {},
     "output_type": "execute_result"
    }
   ],
   "source": [
    "d.str(2) # BINARY"
   ]
  },
  {
   "cell_type": "code",
   "execution_count": 13,
   "id": "b0119459",
   "metadata": {},
   "outputs": [
    {
     "data": {
      "text/plain": [
       "'102987336249554097029535212322581322789799900648198034993379397001115665086549'"
      ]
     },
     "execution_count": 13,
     "metadata": {},
     "output_type": "execute_result"
    }
   ],
   "source": [
    "d.str(10) # DEC"
   ]
  },
  {
   "cell_type": "code",
   "execution_count": null,
   "id": "63a79328",
   "metadata": {},
   "outputs": [],
   "source": []
  }
 ],
 "metadata": {
  "kernelspec": {
   "display_name": "SageMath 9.5",
   "language": "sage",
   "name": "sagemath"
  },
  "language_info": {
   "codemirror_mode": {
    "name": "ipython",
    "version": 3
   },
   "file_extension": ".py",
   "mimetype": "text/x-python",
   "name": "python",
   "nbconvert_exporter": "python",
   "pygments_lexer": "ipython3",
   "version": "3.10.12"
  }
 },
 "nbformat": 4,
 "nbformat_minor": 5
}
