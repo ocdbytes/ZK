{
 "cells": [
  {
   "cell_type": "markdown",
   "id": "70c77025",
   "metadata": {},
   "source": [
    "### Taking a set A with elements : {0,1, 2}\n",
    "Performing the operations : \n",
    "- A x A = P\n",
    "- P x A"
   ]
  },
  {
   "cell_type": "code",
   "execution_count": 22,
   "id": "8d3aeddf",
   "metadata": {},
   "outputs": [],
   "source": [
    "# Imports :\n",
    "# =========================\n",
    "# !pip3 install pandas\n",
    "import pandas as pd\n",
    "import tabulate as tt"
   ]
  },
  {
   "cell_type": "code",
   "execution_count": 23,
   "id": "eb4ac49c",
   "metadata": {},
   "outputs": [
    {
     "data": {
      "text/plain": [
       "[0, 1, 2]"
      ]
     },
     "execution_count": 23,
     "metadata": {},
     "output_type": "execute_result"
    }
   ],
   "source": [
    "set_ele = [0,1,2]\n",
    "set_ele"
   ]
  },
  {
   "cell_type": "code",
   "execution_count": 27,
   "id": "e46395c6",
   "metadata": {},
   "outputs": [
    {
     "data": {
      "text/plain": [
       "[[[0, 0], [0, 1], [0, 2]], [[1, 0], [1, 1], [1, 2]], [[2, 0], [2, 1], [2, 2]]]"
      ]
     },
     "execution_count": 27,
     "metadata": {},
     "output_type": "execute_result"
    }
   ],
   "source": [
    "def ACrossAOperation(set_ele):\n",
    "    res_set = []\n",
    "    for i in set_ele:\n",
    "        temp = []\n",
    "        for j in set_ele:\n",
    "            temp.append([i,j])\n",
    "        res_set.append(temp)\n",
    "    return res_set\n",
    "\n",
    "def ACrossP(set_ele, orig_set):\n",
    "    res_set = []\n",
    "    for ele in orig_set:\n",
    "        temp = []\n",
    "        for i in set_ele:\n",
    "            for j in i:\n",
    "                temp.append([j,ele])\n",
    "        res_set.append(temp)\n",
    "    return res_set\n",
    "\n",
    "res_set = ACrossAOperation(set_ele)\n",
    "res_set"
   ]
  },
  {
   "cell_type": "code",
   "execution_count": 28,
   "id": "c5f65621",
   "metadata": {},
   "outputs": [
    {
     "data": {
      "text/html": [
       "<table>\n",
       "<tbody>\n",
       "<tr><td>[0, 0]</td><td>[0, 1]</td><td>[0, 2]</td></tr>\n",
       "<tr><td>[1, 0]</td><td>[1, 1]</td><td>[1, 2]</td></tr>\n",
       "<tr><td>[2, 0]</td><td>[2, 1]</td><td>[2, 2]</td></tr>\n",
       "</tbody>\n",
       "</table>"
      ],
      "text/plain": [
       "'<table>\\n<tbody>\\n<tr><td>[0, 0]</td><td>[0, 1]</td><td>[0, 2]</td></tr>\\n<tr><td>[1, 0]</td><td>[1, 1]</td><td>[1, 2]</td></tr>\\n<tr><td>[2, 0]</td><td>[2, 1]</td><td>[2, 2]</td></tr>\\n</tbody>\\n</table>'"
      ]
     },
     "execution_count": 28,
     "metadata": {},
     "output_type": "execute_result"
    }
   ],
   "source": [
    "tt.tabulate(res_set,tablefmt='html')"
   ]
  },
  {
   "cell_type": "code",
   "execution_count": 29,
   "metadata": {},
   "outputs": [
    {
     "data": {
      "text/html": [
       "<table>\n",
       "<tbody>\n",
       "<tr><td>[[0, 0], 0]</td><td>[[0, 1], 0]</td><td>[[0, 2], 0]</td><td>[[1, 0], 0]</td><td>[[1, 1], 0]</td><td>[[1, 2], 0]</td><td>[[2, 0], 0]</td><td>[[2, 1], 0]</td><td>[[2, 2], 0]</td></tr>\n",
       "<tr><td>[[0, 0], 1]</td><td>[[0, 1], 1]</td><td>[[0, 2], 1]</td><td>[[1, 0], 1]</td><td>[[1, 1], 1]</td><td>[[1, 2], 1]</td><td>[[2, 0], 1]</td><td>[[2, 1], 1]</td><td>[[2, 2], 1]</td></tr>\n",
       "<tr><td>[[0, 0], 2]</td><td>[[0, 1], 2]</td><td>[[0, 2], 2]</td><td>[[1, 0], 2]</td><td>[[1, 1], 2]</td><td>[[1, 2], 2]</td><td>[[2, 0], 2]</td><td>[[2, 1], 2]</td><td>[[2, 2], 2]</td></tr>\n",
       "</tbody>\n",
       "</table>"
      ],
      "text/plain": [
       "'<table>\\n<tbody>\\n<tr><td>[[0, 0], 0]</td><td>[[0, 1], 0]</td><td>[[0, 2], 0]</td><td>[[1, 0], 0]</td><td>[[1, 1], 0]</td><td>[[1, 2], 0]</td><td>[[2, 0], 0]</td><td>[[2, 1], 0]</td><td>[[2, 2], 0]</td></tr>\\n<tr><td>[[0, 0], 1]</td><td>[[0, 1], 1]</td><td>[[0, 2], 1]</td><td>[[1, 0], 1]</td><td>[[1, 1], 1]</td><td>[[1, 2], 1]</td><td>[[2, 0], 1]</td><td>[[2, 1], 1]</td><td>[[2, 2], 1]</td></tr>\\n<tr><td>[[0, 0], 2]</td><td>[[0, 1], 2]</td><td>[[0, 2], 2]</td><td>[[1, 0], 2]</td><td>[[1, 1], 2]</td><td>[[1, 2], 2]</td><td>[[2, 0], 2]</td><td>[[2, 1], 2]</td><td>[[2, 2], 2]</td></tr>\\n</tbody>\\n</table>'"
      ]
     },
     "execution_count": 29,
     "metadata": {},
     "output_type": "execute_result"
    }
   ],
   "source": [
    "p = res_set\n",
    "data = ACrossP(p, set_ele)\n",
    "tt.tabulate(data, tablefmt='html')"
   ]
  }
 ],
 "metadata": {
  "kernelspec": {
   "display_name": "Python 3 (ipykernel)",
   "language": "python",
   "name": "python3"
  },
  "language_info": {
   "codemirror_mode": {
    "name": "ipython",
    "version": 3
   },
   "file_extension": ".py",
   "mimetype": "text/x-python",
   "name": "python",
   "nbconvert_exporter": "python",
   "pygments_lexer": "ipython3",
   "version": "3.9.0"
  }
 },
 "nbformat": 4,
 "nbformat_minor": 5
}
