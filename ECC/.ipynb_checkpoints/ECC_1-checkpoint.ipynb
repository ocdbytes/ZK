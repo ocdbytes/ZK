{
 "cells": [
  {
   "attachments": {},
   "cell_type": "markdown",
   "id": "99edac38",
   "metadata": {},
   "source": [
    "![ECC](https://static.wixstatic.com/media/935a00_cffa7b60afd8486f8cc2f97de8b07f17~mv2.png/v1/fill/w_740,h_406,al_c,q_85,usm_0.66_1.00_0.01,enc_auto/935a00_cffa7b60afd8486f8cc2f97de8b07f17~mv2.png)\n",
    "\n",
    "\n",
    "### ECC (Eliptical Curve Cryptography)\n",
    "\n",
    "Equation : \n",
    "\n",
    "![ECC equation](https://static.wixstatic.com/media/935a00_a64ffe27ee3b4452bc1fc0d18fd62817~mv2.png)\n",
    "\n",
    "A point on an elliptic curve is an (x, y) pair that satisfies y² = x³ + ax + b for a given a and b.\n",
    "\n",
    "For example, the point (3, 6) is in the curve y² = x³ + 9 because it 6² = 3³ + 9. In group theoretic terms, (3, 6) is a member of the set defined by y² = x³ + 9. Since we are dealing with real numbers, the set has infinite cardinality.\n",
    "\n",
    "The idea here is we can take two points from this set, do a binary operator, and we will get another point that is also in the set. That is, it is an (x, y) pair that also lies on the curve.\n",
    "\n",
    "Rather thank thinking of elliptic curves as a plot on a graph, think of them as an infinite set of points. Points are in the set if and only if they satisfy the elliptic curve equation.\n",
    "Once we see these points as a set, looking at them as a group isn’t mysterious. We just take two points, and produce a third according to the rules of a group.\n",
    "Specifically, we need to fulfill a binary operator that is closed and associative, i.e. it produces another point in the set having an identity element every element having an inverse."
   ]
  },
  {
   "cell_type": "markdown",
   "id": "540c6dea",
   "metadata": {},
   "source": [
    "### ECC forms abelian group under addtion\n",
    "\n",
    "So given three points on the elliptic curve A, B, and C, we know the following is true:\n",
    "\n",
    "```sh\n",
    "(A ⊕ B) ⊕ C = A ⊕ (B ⊕ C)\n",
    "A ⊕ B = B ⊕ A\n",
    "```\n",
    "\n",
    "Formula for addition :\n",
    "\n",
    "Using some algebra, and given two points\n",
    "\n",
    "```sh\n",
    "P₁=(x₁,y₁)\n",
    "P₂=(x₂,y₂)\n",
    "```\n",
    "\n",
    "![ECC_Addition](https://static.wixstatic.com/media/935a00_ee7c452c04b246b9a39c1876fdbfcff9~mv2.png/v1/fill/w_360,h_121,al_c,q_85,usm_0.66_1.00_0.01,enc_auto/935a00_ee7c452c04b246b9a39c1876fdbfcff9~mv2.png)"
   ]
  },
  {
   "cell_type": "markdown",
   "id": "35a64e43",
   "metadata": {},
   "source": [
    "### Algebraically demonstrating commutativity and associativity\n",
    "\n",
    "Because we have a closed form equation, we can prove algebraically that :\n",
    "T⊕U = U⊕T given points T and U.\n",
    "\n",
    "We do it as follows :\n",
    "\n",
    "```sh\n",
    "P = T ⊕ U\n",
    "Q = U ⊕ T\n",
    "```\n"
   ]
  },
  {
   "cell_type": "code",
   "execution_count": 1,
   "id": "1cb94dc1",
   "metadata": {},
   "outputs": [
    {
     "data": {
      "text/plain": [
       "(y_t, y_u, x_t, x_u)"
      ]
     },
     "execution_count": 1,
     "metadata": {},
     "output_type": "execute_result"
    }
   ],
   "source": [
    "var('y_t', 'y_u', 'x_t', 'x_u')"
   ]
  },
  {
   "cell_type": "code",
   "execution_count": 2,
   "id": "048bb051",
   "metadata": {},
   "outputs": [],
   "source": [
    "lambda_p = (y_u - y_t)/(x_u - x_t)\n",
    "x_p = lambda_p^2 - x_t - x_u\n",
    "y_p = (lambda_p*(x_t - x_p) - y_t)"
   ]
  },
  {
   "cell_type": "code",
   "execution_count": 3,
   "id": "927874a0",
   "metadata": {},
   "outputs": [],
   "source": [
    "lambda_q = (y_t - y_u)/(x_t - x_u)\n",
    "x_q = lambda_q^2 - x_u - x_t\n",
    "y_q = (lambda_q*(x_u - x_q) - y_u)"
   ]
  },
  {
   "cell_type": "code",
   "execution_count": 4,
   "id": "0e12f7d4",
   "metadata": {},
   "outputs": [
    {
     "data": {
      "text/html": [
       "<html><script type=\"math/tex; mode=display\">\\newcommand{\\Bold}[1]{\\mathbf{#1}}-x_{t} - x_{u} + \\frac{{\\left(y_{t} - y_{u}\\right)}^{2}}{{\\left(x_{t} - x_{u}\\right)}^{2}}</script></html>"
      ],
      "text/latex": [
       "$$\\newcommand{\\Bold}[1]{\\mathbf{#1}}-x_{t} - x_{u} + \\frac{{\\left(y_{t} - y_{u}\\right)}^{2}}{{\\left(x_{t} - x_{u}\\right)}^{2}}$$"
      ],
      "text/plain": [
       "-x_t - x_u + (y_t - y_u)^2/(x_t - x_u)^2"
      ]
     },
     "metadata": {},
     "output_type": "display_data"
    }
   ],
   "source": [
    "pretty_print(x_q)"
   ]
  },
  {
   "cell_type": "code",
   "execution_count": 5,
   "id": "5dc928c9",
   "metadata": {},
   "outputs": [
    {
     "data": {
      "text/html": [
       "<html><script type=\"math/tex; mode=display\">\\newcommand{\\Bold}[1]{\\mathbf{#1}}-x_{t} - x_{u} + \\frac{{\\left(y_{t} - y_{u}\\right)}^{2}}{{\\left(x_{t} - x_{u}\\right)}^{2}}</script></html>"
      ],
      "text/latex": [
       "$$\\newcommand{\\Bold}[1]{\\mathbf{#1}}-x_{t} - x_{u} + \\frac{{\\left(y_{t} - y_{u}\\right)}^{2}}{{\\left(x_{t} - x_{u}\\right)}^{2}}$$"
      ],
      "text/plain": [
       "-x_t - x_u + (y_t - y_u)^2/(x_t - x_u)^2"
      ]
     },
     "metadata": {},
     "output_type": "display_data"
    }
   ],
   "source": [
    "pretty_print(x_p)"
   ]
  },
  {
   "cell_type": "code",
   "execution_count": 7,
   "id": "626be600",
   "metadata": {},
   "outputs": [
    {
     "data": {
      "text/html": [
       "<html><script type=\"math/tex; mode=display\">\\newcommand{\\Bold}[1]{\\mathbf{#1}}-\\frac{y_{t}^{3} + 3 \\, y_{t} y_{u}^{2} - y_{u}^{3} - {\\left(x_{t}^{3} - 3 \\, x_{t} x_{u}^{2} + 2 \\, x_{u}^{3}\\right)} y_{t} + {\\left(2 \\, x_{t}^{3} - 3 \\, x_{t}^{2} x_{u} + x_{u}^{3} - 3 \\, y_{t}^{2}\\right)} y_{u}}{x_{t}^{3} - 3 \\, x_{t}^{2} x_{u} + 3 \\, x_{t} x_{u}^{2} - x_{u}^{3}}</script></html>"
      ],
      "text/latex": [
       "$$\\newcommand{\\Bold}[1]{\\mathbf{#1}}-\\frac{y_{t}^{3} + 3 \\, y_{t} y_{u}^{2} - y_{u}^{3} - {\\left(x_{t}^{3} - 3 \\, x_{t} x_{u}^{2} + 2 \\, x_{u}^{3}\\right)} y_{t} + {\\left(2 \\, x_{t}^{3} - 3 \\, x_{t}^{2} x_{u} + x_{u}^{3} - 3 \\, y_{t}^{2}\\right)} y_{u}}{x_{t}^{3} - 3 \\, x_{t}^{2} x_{u} + 3 \\, x_{t} x_{u}^{2} - x_{u}^{3}}$$"
      ],
      "text/plain": [
       "-(y_t^3 + 3*y_t*y_u^2 - y_u^3 - (x_t^3 - 3*x_t*x_u^2 + 2*x_u^3)*y_t + (2*x_t^3 - 3*x_t^2*x_u + x_u^3 - 3*y_t^2)*y_u)/(x_t^3 - 3*x_t^2*x_u + 3*x_t*x_u^2 - x_u^3)"
      ]
     },
     "metadata": {},
     "output_type": "display_data"
    }
   ],
   "source": [
    "pretty_print(y_q.expand().full_simplify())"
   ]
  },
  {
   "cell_type": "code",
   "execution_count": 9,
   "id": "e38414c9",
   "metadata": {},
   "outputs": [
    {
     "data": {
      "text/html": [
       "<html><script type=\"math/tex; mode=display\">\\newcommand{\\Bold}[1]{\\mathbf{#1}}-\\frac{y_{t}^{3} + 3 \\, y_{t} y_{u}^{2} - y_{u}^{3} - {\\left(x_{t}^{3} - 3 \\, x_{t} x_{u}^{2} + 2 \\, x_{u}^{3}\\right)} y_{t} + {\\left(2 \\, x_{t}^{3} - 3 \\, x_{t}^{2} x_{u} + x_{u}^{3} - 3 \\, y_{t}^{2}\\right)} y_{u}}{x_{t}^{3} - 3 \\, x_{t}^{2} x_{u} + 3 \\, x_{t} x_{u}^{2} - x_{u}^{3}}</script></html>"
      ],
      "text/latex": [
       "$$\\newcommand{\\Bold}[1]{\\mathbf{#1}}-\\frac{y_{t}^{3} + 3 \\, y_{t} y_{u}^{2} - y_{u}^{3} - {\\left(x_{t}^{3} - 3 \\, x_{t} x_{u}^{2} + 2 \\, x_{u}^{3}\\right)} y_{t} + {\\left(2 \\, x_{t}^{3} - 3 \\, x_{t}^{2} x_{u} + x_{u}^{3} - 3 \\, y_{t}^{2}\\right)} y_{u}}{x_{t}^{3} - 3 \\, x_{t}^{2} x_{u} + 3 \\, x_{t} x_{u}^{2} - x_{u}^{3}}$$"
      ],
      "text/plain": [
       "-(y_t^3 + 3*y_t*y_u^2 - y_u^3 - (x_t^3 - 3*x_t*x_u^2 + 2*x_u^3)*y_t + (2*x_t^3 - 3*x_t^2*x_u + x_u^3 - 3*y_t^2)*y_u)/(x_t^3 - 3*x_t^2*x_u + 3*x_t*x_u^2 - x_u^3)"
      ]
     },
     "metadata": {},
     "output_type": "display_data"
    }
   ],
   "source": [
    "pretty_print(y_p.expand().full_simplify())\n",
    "\n",
    "# ================\n",
    "# Hence proved\n",
    "# ================\n",
    "# T op U == U op T"
   ]
  },
  {
   "cell_type": "markdown",
   "id": "e8e8dec2",
   "metadata": {},
   "source": [
    "#### Elliptic curves in finite fields\n",
    "If we were to do elliptic curves over real numbers for a real application, they would be very numerically unstable because the intersection point could require a lot of decimal places to compute.\n",
    "\n",
    "So in reality, we do everything modulo a prime number.\n",
    "\n",
    "But we lose none of the intuition we’ve gained above by doing this."
   ]
  }
 ],
 "metadata": {
  "kernelspec": {
   "display_name": "SageMath 9.5",
   "language": "sage",
   "name": "sagemath"
  },
  "language_info": {
   "codemirror_mode": {
    "name": "ipython",
    "version": 3
   },
   "file_extension": ".py",
   "mimetype": "text/x-python",
   "name": "python",
   "nbconvert_exporter": "python",
   "pygments_lexer": "ipython3",
   "version": "3.10.12"
  }
 },
 "nbformat": 4,
 "nbformat_minor": 5
}
