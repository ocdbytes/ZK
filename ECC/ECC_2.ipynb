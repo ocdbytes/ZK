{
 "cells": [
  {
   "cell_type": "markdown",
   "id": "d2c50d07",
   "metadata": {},
   "source": [
    "### ECC under finite field\n",
    "\n",
    "It’s easy to visualize smooth elliptic curves, but what do elliptic curves over a finite field look like?\n",
    "The following is a plot of `y² = x³ + 3 (mod 23)`\n",
    "\n",
    "![ECC_under_finite_field](https://static.wixstatic.com/media/935a00_9b8594bdeb9b4eb580847f1d5ffcd6c0~mv2.png)\n",
    "\n",
    "Here are some plots of y² = x³ + 3 done over modulo 11, 23, 31, and 41 respectively. The higher the modulus, the more points it holds, and the more complex the plot appears to be.\n",
    "\n",
    "![ECC_1](https://static.wixstatic.com/media/935a00_e592040ff7174e81a1f32ed7ed70a150~mv2.png/v1/fill/w_740,h_397,al_c,q_85,usm_0.66_1.00_0.01,enc_auto/935a00_e592040ff7174e81a1f32ed7ed70a150~mv2.png)\n",
    "\n",
    "![ECC_2](https://static.wixstatic.com/media/935a00_382bd8455deb45efba13fdb7d77517b4~mv2.png/v1/fill/w_740,h_397,al_c,q_85,usm_0.66_1.00_0.01,enc_auto/935a00_382bd8455deb45efba13fdb7d77517b4~mv2.png)\n",
    "\n",
    "In the application of cryptography, p needs to be sufficiently large to prevent brute force guessing. In practice, it is over 200 bits.\n",
    "\n",
    "Here : \n",
    "\n",
    "```sh\n",
    "x = 7 + 4 (mod 11)\n",
    "\n",
    "11 is the field element\n",
    "elements in the group : [0,1,2,3,4,5,6,7,8,9,10]\n",
    "```\n",
    "\n",
    "#### Cyclic Groups\n",
    "As discussed previously, a cyclic group is a group such that every element can be computed by starting with a generator element and repeatedly applying the group’s binary operator.\n",
    "A very simple example is integers modulo 11 under addition. If your generator is 1, and you keep adding the generator to itself, you can generate every element in the group from 0 to 10.\n",
    "This means we can represent every number in a finite field as an elliptic curve point and add them together just like we would regular integers in a finite field.\n",
    "\n",
    "```sh\n",
    "That is,\n",
    "5 + 7 (mod p) is homomorphic to 5G + 7G\n",
    "Where G is the generator of the elliptic curve cyclic group. \n",
    "```"
   ]
  },
  {
   "cell_type": "code",
   "execution_count": 1,
   "id": "481ac978",
   "metadata": {},
   "outputs": [
    {
     "name": "stdout",
     "output_type": "stream",
     "text": [
      "Defaulting to user installation because normal site-packages is not writeable\n",
      "Requirement already satisfied: libnum in /home/ocdbytes/.local/lib/python3.10/site-packages (1.7.1)\n"
     ]
    }
   ],
   "source": [
    "!pip3 install libnum"
   ]
  },
  {
   "cell_type": "code",
   "execution_count": 3,
   "id": "131e238f",
   "metadata": {},
   "outputs": [
    {
     "name": "stdout",
     "output_type": "stream",
     "text": [
      "False\n",
      "True\n",
      "[4, 7]\n"
     ]
    }
   ],
   "source": [
    "from libnum import has_sqrtmod_prime_power, has_sqrtmod_prime_power, sqrtmod_prime_power\n",
    "\n",
    "# the functions take arguments\n",
    "# has_sqrtmod_prime_power(n, field_mod, k), where n**k,\n",
    "# but we aren't interested in powers in modular fields, so we set k = 1\n",
    "\n",
    "# check if sqrt(8) mod 11 exists\n",
    "print(has_sqrtmod_prime_power(8, 11, 1))\n",
    "# False\n",
    "\n",
    "# check if sqrt(5) mod 11 exists\n",
    "print(has_sqrtmod_prime_power(5, 11, 1))\n",
    "# True\n",
    "\n",
    "# compute sqrt(5) mod 11\n",
    "print(list(sqrtmod_prime_power(5, 11, 1)))\n",
    "# [4, 7]\n",
    "assert (4 ** 2) % 11 == 5\n",
    "assert (7 ** 2) % 11 == 5\n",
    "# we expect 4 and 7 to be inverses of each other, because in \"regular\" math,\n",
    "# the two solutions to a square root are sqrt and -sqrt\n",
    "assert (4 + 7) % 11 == 0"
   ]
  },
  {
   "cell_type": "code",
   "execution_count": 4,
   "id": "f9154284",
   "metadata": {},
   "outputs": [
    {
     "data": {
      "text/plain": [
       "<matplotlib.collections.PathCollection at 0x7fd297f59c30>"
      ]
     },
     "execution_count": 4,
     "metadata": {},
     "output_type": "execute_result"
    },
    {
     "data": {
      "image/png": "[encoded data removed]",
      "text/plain": [
       "<Figure size 432x432 with 1 Axes>"
      ]
     },
     "metadata": {
      "needs_background": "light"
     },
     "output_type": "display_data"
    }
   ],
   "source": [
    "# Generating the plot for ecc in a finite field with field element 11\n",
    "\n",
    "import libnum\n",
    "import matplotlib.pyplot as plt\n",
    "\n",
    "def generate_points(mod):\n",
    "    xs = []\n",
    "    ys = []\n",
    "    def y_squared(x):\n",
    "        return (x**3 + 3) % mod\n",
    "\n",
    "    for x in range(0, mod):\n",
    "        if libnum.has_sqrtmod_prime_power(y_squared(x), mod, 1):\n",
    "            square_roots = libnum.sqrtmod_prime_power(y_squared(x), mod, 1)\n",
    "\n",
    "            for sr in square_roots:\n",
    "                ys.append(sr)\n",
    "                xs.append(x)\n",
    "    return xs, ys\n",
    "\n",
    "\n",
    "xs, ys = generate_points(11)\n",
    "fig, (ax1) = plt.subplots(1, 1);\n",
    "fig.suptitle('y^2 = x^3 + 3 (mod p)');\n",
    "fig.set_size_inches(6, 6);\n",
    "ax1.set_xticks(range(0,11));\n",
    "ax1.set_yticks(range(0,11));\n",
    "plt.grid()\n",
    "plt.scatter(xs, ys)"
   ]
  },
  {
   "cell_type": "code",
   "execution_count": 5,
   "metadata": {},
   "outputs": [],
   "source": [
    "# ===================================================\n",
    "# Point Addition on curve\n",
    "# ===================================================\n",
    "\n",
    "def double(x, y, a, p):\n",
    "    lambd = (((3 * x**2) % p ) *  pow(2 * y, -1, p)) % p\n",
    "    newx = (lambd**2 - 2 * x) % p\n",
    "    newy = (-lambd * newx + lambd * x - y) % p\n",
    "    return (newx, newy)\n",
    "\n",
    "def add_points(xq, yq, xp, yp, p, a=0):\n",
    "    if xq == yq == None:\n",
    "        return xp, yp\n",
    "    if xp == yp == None:\n",
    "        return xq, yq\n",
    "    \n",
    "    assert (xq**3 + 3) % p == (yq ** 2) % p, \"q not on curve\"\n",
    "    assert (xp**3 + 3) % p == (yp ** 2) % p, \"p not on curve\"\n",
    "    \n",
    "    if xq == xp and yq == yp:\n",
    "        return double(xq, yq, a, p)\n",
    "    elif xq == xp:\n",
    "        return None, None\n",
    "    \n",
    "    lambd = ((yq - yp) * pow((xq - xp), -1, p) ) % p\n",
    "    xr = (lambd**2 - xp - xq) % p\n",
    "    yr = (lambd*(xp - xr) - yp) % p\n",
    "    return xr, yr"
   ]
  },
  {
   "cell_type": "markdown",
   "metadata": {},
   "source": [
    "#### Every elliptic curve point in a cyclic group has a “number”\n",
    "A cyclic group, by definition, can be generated by repeatedly adding the generator to itself.\n",
    "\n",
    "Let’s use a real example of y² = x³ + 3 (mod 11) with the generator point being (4, 10).\n",
    "\n",
    "Using the python functions above, we can start with the point (4, 10) and generate every point in the group:"
   ]
  },
  {
   "cell_type": "code",
   "execution_count": 6,
   "metadata": {},
   "outputs": [
    {
     "name": "stdout",
     "output_type": "stream",
     "text": [
      "1 4 10\n",
      "2 7 7\n",
      "3 1 9\n",
      "4 0 6\n",
      "5 8 8\n",
      "6 2 0\n",
      "7 8 3\n",
      "8 0 5\n",
      "9 1 2\n",
      "10 7 4\n",
      "11 4 1\n"
     ]
    }
   ],
   "source": [
    "# for our purposes, (4, 10) is the generator point G\n",
    "next_x, next_y = 4, 10\n",
    "print(1, 4, 10)\n",
    "points = [(next_x, next_y)]\n",
    "for i in range(2, 12):\n",
    "    # repeatedly add G to the next point to generate all the elements\n",
    "    next_x, next_y = add_points(next_x, next_y, 4, 10, 11)\n",
    "    print(i, next_x, next_y)\n",
    "    points.append((next_x, next_y))"
   ]
  },
  {
   "cell_type": "code",
   "execution_count": 7,
   "metadata": {},
   "outputs": [
    {
     "data": {
      "image/png": "[encoded data removed]",
      "text/plain": [
       "<Figure size 936x432 with 1 Axes>"
      ]
     },
     "metadata": {
      "needs_background": "light"
     },
     "output_type": "display_data"
    }
   ],
   "source": [
    "xs11, ys11 = generate_points(11)\n",
    "\n",
    "fig, (ax1) = plt.subplots(1, 1);\n",
    "fig.suptitle('y^2 = x^3 + 3 (mod 11)');\n",
    "fig.set_size_inches(13, 6);\n",
    "\n",
    "ax1.set_title(\"modulo 11\")\n",
    "ax1.scatter(xs11, ys11, marker='o');\n",
    "ax1.set_xticks(range(0,11));\n",
    "ax1.set_yticks(range(0,11));\n",
    "ax1.grid()\n",
    "\n",
    "for i in range(0, 11):\n",
    "    plt.annotate(str(i+1), (points[i][0] + 0.1, points[i][1]), color=\"red\");"
   ]
  }
 ],
 "metadata": {
  "kernelspec": {
   "display_name": "Python 3 (ipykernel)",
   "language": "python",
   "name": "python3"
  },
  "language_info": {
   "codemirror_mode": {
    "name": "ipython",
    "version": 3
   },
   "file_extension": ".py",
   "mimetype": "text/x-python",
   "name": "python",
   "nbconvert_exporter": "python",
   "pygments_lexer": "ipython3",
   "version": "3.10.12"
  }
 },
 "nbformat": 4,
 "nbformat_minor": 5
}
