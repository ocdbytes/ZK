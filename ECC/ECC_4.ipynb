{
 "cells": [
  {
   "cell_type": "markdown",
   "metadata": {},
   "source": [
    "### ZK Proof using ECC\n",
    "\n",
    "```sh\n",
    "Claim: “I know two values x and y such that x + y = 15”\n",
    "Proof: I multiply x by G1 and y by G1 and give those to you as A and B.\n",
    "Verifier: You multiply 15 by G1 and check that A + B == 15G1.\n",
    "```"
   ]
  },
  {
   "cell_type": "code",
   "execution_count": 3,
   "metadata": {},
   "outputs": [
    {
     "name": "stdout",
     "output_type": "stream",
     "text": [
      "statement is true\n"
     ]
    }
   ],
   "source": [
    "from py_ecc.bn128 import G1, multiply, add, neg\n",
    "\n",
    "# Prover\n",
    "secret_x = 5\n",
    "secret_y = 10\n",
    "\n",
    "x = multiply(G1, 5)\n",
    "y = multiply(G1, 10)\n",
    "\n",
    "proof = (x, y, 15)\n",
    "\n",
    "# verifier\n",
    "if multiply(G1, proof[2]) == add(proof[0], proof[1]):\n",
    "    print(\"statement is true\")\n",
    "else:\n",
    "    print(\"statement is false\")"
   ]
  },
  {
   "cell_type": "markdown",
   "metadata": {},
   "source": [
    "### Bonus: Why the ECDSA malleability attack works.\n",
    "\n",
    "As we documented in our smart contract security article, given a valid signature (r, s, v, hash(msg)), one can forge another valid signature for the same message by doing the following:\n",
    "\n",
    "```sh\n",
    "// create a fake s for (r, s, v), then flip v\n",
    "bytes32 s2 = bytes32(uint256(0xFFFFFFFFFFFFFFFFFFFFFFFFFFFFFFFEBAAEDCE6AF48A03BBFD25E8CD0364141) - uint256(s));\n",
    "Where does this magic number come from? ECDSA uses the secp256k1 curve, which has the following parameters:\n",
    "\n",
    "p = 0xfffffffffffffffffffffffffffffffffffffffffffffffffffffffefffffc2f\n",
    "y^2 = x^3 + 7 (mod p)\n",
    "order = 0xfffffffffffffffffffffffffffffffebaaedce6af48a03bbfd25e8cd0364141\n",
    "```\n",
    "\n",
    "**Note that the order is the same as the magic number.**\n",
    "\n",
    "#### Main Identity :\n",
    "```sh\n",
    "multiply((order - x) * G1) == neg(multiply(G1, x))\n",
    "```"
   ]
  },
  {
   "cell_type": "code",
   "execution_count": 7,
   "metadata": {},
   "outputs": [
    {
     "name": "stdout",
     "output_type": "stream",
     "text": [
      "\n",
      "point_at_infinity = order*G1\n",
      "\n",
      "(order + x - x)*G1 = point_at_infinity\n",
      "\n",
      "(order - x)*G1 = -xG1 + point_at_infinity\n",
      "\n",
      "(order - x)*G1 = -xG1 + point_at_infinity\n",
      "\n",
      "(order - x)*G1 = -xG1\n",
      "\n",
      "(order - x)*G1 = neg(x*G1)\n",
      "\n"
     ]
    }
   ],
   "source": [
    "order = 21888242871839275222246405745257275088548364400416034343698204186575808495617\n",
    "x = 100 # chosen randomly\n",
    "assert multiply(G1, order - x) == neg(multiply(G1, x))\n",
    "\n",
    "\n",
    "proof = '''\n",
    "point_at_infinity = order*G1\\n\n",
    "(order + x - x)*G1 = point_at_infinity\\n\n",
    "(order - x)*G1 = -xG1 + point_at_infinity\\n\n",
    "(order - x)*G1 = -xG1 + point_at_infinity\\n\n",
    "(order - x)*G1 = -xG1\\n\n",
    "(order - x)*G1 = neg(x*G1)\n",
    "'''\n",
    "\n",
    "print(proof)"
   ]
  }
 ],
 "metadata": {
  "kernelspec": {
   "display_name": "Python 3",
   "language": "python",
   "name": "python3"
  },
  "language_info": {
   "codemirror_mode": {
    "name": "ipython",
    "version": 3
   },
   "file_extension": ".py",
   "mimetype": "text/x-python",
   "name": "python",
   "nbconvert_exporter": "python",
   "pygments_lexer": "ipython3",
   "version": "3.9.0"
  }
 },
 "nbformat": 4,
 "nbformat_minor": 2
}
