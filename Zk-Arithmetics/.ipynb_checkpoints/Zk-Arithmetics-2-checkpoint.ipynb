{
 "cells": [
  {
   "cell_type": "markdown",
   "id": "22e9f757",
   "metadata": {},
   "source": [
    "# Modular Arithmetics\n",
    "\n",
    "Modular arithmetic helps in cryptography as it has applications in one-way functions which are neccassary in cryptography.\n",
    "\n",
    "Eg: \n",
    "\n",
    "if the clock shows that it is 11 o’clock, then 20 hours later it will be 7 o’clock, not 31 o’clock. The number 31 has no meaning on a normal clock that shows hours."
   ]
  },
  {
   "cell_type": "markdown",
   "id": "c8f8db92",
   "metadata": {},
   "source": [
    "### Fermat's Little Theorem\n",
    "\n",
    "It states that in modular arithmetic every number raised to the power of a prime number modulus is congruent to itself."
   ]
  },
  {
   "cell_type": "code",
   "execution_count": 1,
   "id": "f2f05988",
   "metadata": {},
   "outputs": [
    {
     "data": {
      "text/plain": [
       "1"
      ]
     },
     "execution_count": 1,
     "metadata": {},
     "output_type": "execute_result"
    }
   ],
   "source": [
    "# Proof \n",
    "# Prime number : 137\n",
    "ZZ(137).gcd(ZZ(64))"
   ]
  },
  {
   "cell_type": "code",
   "execution_count": 2,
   "id": "6eeb5f4c",
   "metadata": {},
   "outputs": [
    {
     "data": {
      "text/plain": [
       "True"
      ]
     },
     "execution_count": 2,
     "metadata": {},
     "output_type": "execute_result"
    }
   ],
   "source": [
    "ZZ(64)^ZZ(137) % ZZ(137) == ZZ(64) % ZZ(137)"
   ]
  },
  {
   "cell_type": "code",
   "execution_count": 3,
   "id": "e17a10b0",
   "metadata": {},
   "outputs": [
    {
     "data": {
      "text/plain": [
       "True"
      ]
     },
     "execution_count": 3,
     "metadata": {},
     "output_type": "execute_result"
    }
   ],
   "source": [
    "ZZ(64)^ZZ(137 - 1) % ZZ(137) == ZZ(1) % ZZ(137)"
   ]
  },
  {
   "cell_type": "code",
   "execution_count": 4,
   "id": "605724e9",
   "metadata": {},
   "outputs": [
    {
     "data": {
      "text/plain": [
       "137"
      ]
     },
     "execution_count": 4,
     "metadata": {},
     "output_type": "execute_result"
    }
   ],
   "source": [
    "# Not a prime number : 1918\n",
    "ZZ(1918).gcd(ZZ(137))"
   ]
  },
  {
   "cell_type": "code",
   "execution_count": 5,
   "id": "e7a79150",
   "metadata": {},
   "outputs": [
    {
     "data": {
      "text/plain": [
       "True"
      ]
     },
     "execution_count": 5,
     "metadata": {},
     "output_type": "execute_result"
    }
   ],
   "source": [
    "ZZ(1918)^ZZ(137) % ZZ(137) == ZZ(1918) % ZZ(137)"
   ]
  },
  {
   "cell_type": "code",
   "execution_count": 6,
   "id": "9c80f056",
   "metadata": {},
   "outputs": [
    {
     "data": {
      "text/plain": [
       "False"
      ]
     },
     "execution_count": 6,
     "metadata": {},
     "output_type": "execute_result"
    }
   ],
   "source": [
    "ZZ(1918)^ZZ(137 - 1) % ZZ(137) == ZZ(1) % ZZ(137)"
   ]
  },
  {
   "cell_type": "markdown",
   "id": "d745418c",
   "metadata": {},
   "source": [
    "```sh\n",
    "# Solving Equation :\n",
    "\n",
    "7.(2x + 21) + 11 ≡ x - 102 (mod 6)\n",
    "```"
   ]
  },
  {
   "cell_type": "code",
   "execution_count": 7,
   "id": "bf9f14b3",
   "metadata": {},
   "outputs": [
    {
     "data": {
      "text/plain": [
       "True"
      ]
     },
     "execution_count": 7,
     "metadata": {},
     "output_type": "execute_result"
    }
   ],
   "source": [
    "# for x : 4\n",
    "(ZZ(7)*(ZZ(2) * ZZ(4) + ZZ(21)) + ZZ(11)) % ZZ(6) == (ZZ(4) - ZZ(102)) % ZZ(6)"
   ]
  },
  {
   "cell_type": "code",
   "execution_count": 8,
   "id": "8a09d2c5",
   "metadata": {},
   "outputs": [
    {
     "data": {
      "text/plain": [
       "True"
      ]
     },
     "execution_count": 8,
     "metadata": {},
     "output_type": "execute_result"
    }
   ],
   "source": [
    "# for x : 10\n",
    "(ZZ(7)*(ZZ(2) * ZZ(10) + ZZ(21)) + ZZ(11)) % ZZ(6) == (ZZ(10) - ZZ(102)) % ZZ(6)"
   ]
  },
  {
   "cell_type": "markdown",
   "id": "4a8aa213",
   "metadata": {},
   "source": [
    "```sh\n",
    "\n",
    "# Solving Equation\n",
    "\n",
    "5x + 4 ≡ 28 + 2x (mod 13)\n",
    "\n",
    "```"
   ]
  },
  {
   "cell_type": "code",
   "execution_count": 19,
   "id": "1836535b",
   "metadata": {},
   "outputs": [
    {
     "data": {
      "text/plain": [
       "True"
      ]
     },
     "execution_count": 19,
     "metadata": {},
     "output_type": "execute_result"
    }
   ],
   "source": [
    "# for x : 8\n",
    "(ZZ(5)*ZZ(8) + ZZ(4)) % ZZ(13) == (ZZ(28) + ZZ(2)*ZZ(8)) % ZZ(13)"
   ]
  },
  {
   "cell_type": "code",
   "execution_count": 20,
   "id": "77905c5c",
   "metadata": {},
   "outputs": [
    {
     "data": {
      "text/plain": [
       "True"
      ]
     },
     "execution_count": 20,
     "metadata": {},
     "output_type": "execute_result"
    }
   ],
   "source": [
    "# for x : -5\n",
    "(ZZ(5)*ZZ(-5) + ZZ(4)) % ZZ(13) == (ZZ(28) + ZZ(2)*ZZ(-5)) % ZZ(13)"
   ]
  },
  {
   "cell_type": "markdown",
   "id": "db5be11a",
   "metadata": {},
   "source": [
    "#### Chinese Remainder Theorem\n",
    "\n",
    "It states that a value `x` exists if :\n",
    "\n",
    "x ≡ a1 (mod n1)\n",
    "x ≡ a2 (mod n2)\n",
    "...\n",
    "x ≡ ak (mod nk)\n",
    "\n",
    "```sh\n",
    "n1,n2 .... nk -> All these are co-prime which means :\n",
    "gcd(n1, n2) = gcd(n2, n3) = ...... = gcd(nk-1, nk) = 1\n",
    "```"
   ]
  },
  {
   "cell_type": "code",
   "execution_count": 2,
   "id": "666476d3",
   "metadata": {},
   "outputs": [
    {
     "data": {
      "text/plain": [
       "88"
      ]
     },
     "execution_count": 2,
     "metadata": {},
     "output_type": "execute_result"
    }
   ],
   "source": [
    "# CRT = Chinese Remainder Theorem\n",
    "x = CRT_list([4,1,3,0], [7,3,5,11])\n",
    "x"
   ]
  },
  {
   "cell_type": "markdown",
   "id": "a74110ee",
   "metadata": {},
   "source": [
    "#### Remainder Class Representation\n",
    "\n",
    "```sh\n",
    "7·(2x+21)+11 ≡ x−102 ( mod 6 ) over Z ⇔ 1·(2x+3)+5 = x over Z6\n",
    "\n",
    "Because :\n",
    "\n",
    "7 mod 6 = 1\n",
    "21 mod 6 = 3\n",
    "11 mod 6 = 5\n",
    "102 mod 6 = 0\n",
    "\n",
    "Now using the addition and multiplication table we can solve this equation :\n",
    "\n",
    "1·(2x+3)+5 = x over Z6\n",
    "(2x+3)+5 = x\n",
    "2x + 2 = x # because 5 + 3 = 2\n",
    "2x + 2 + 4 - x = x + 4 - x # adding 4 and '-x' on both sides\n",
    "x = 4\n",
    "\n",
    "{4 + 6.k | k ∈ Z}\n",
    "```"
   ]
  },
  {
   "cell_type": "markdown",
   "id": "275567ef",
   "metadata": {},
   "source": [
    "Defining a modulo 6 integer class system\n",
    "\n",
    "```sh\n",
    "(6)10 = (110)2 -> Therefor it is a 3 bit modulus arithmetic system.\n",
    "\n",
    "IMP :\n",
    "-----\n",
    "In cryptographic papers, we sometimes read phrases like “[. . .] using a 4096-bit modulus”. \n",
    "This means that the underlying modulus n of the modular arithmetic used in the \n",
    "system has a binary representation with a length of 4096 bits. \n",
    "```"
   ]
  },
  {
   "cell_type": "code",
   "execution_count": 4,
   "id": "ca881ac2",
   "metadata": {},
   "outputs": [],
   "source": [
    "Z6 = Integers(6)"
   ]
  },
  {
   "cell_type": "code",
   "execution_count": 5,
   "id": "f0b0b418",
   "metadata": {},
   "outputs": [
    {
     "data": {
      "text/plain": [
       "1"
      ]
     },
     "execution_count": 5,
     "metadata": {},
     "output_type": "execute_result"
    }
   ],
   "source": [
    "Z6(2) + Z6(5)\n",
    "\n",
    "# Because of the addition table of modulo 6 and we "
   ]
  },
  {
   "cell_type": "code",
   "execution_count": 14,
   "id": "c8e99730",
   "metadata": {},
   "outputs": [
    {
     "data": {
      "text/plain": [
       "True"
      ]
     },
     "execution_count": 14,
     "metadata": {},
     "output_type": "execute_result"
    }
   ],
   "source": [
    "Z6(7)*(Z6(2)*Z6(4)+Z6(21))+Z6(11) == Z6(4) - Z6(102)"
   ]
  },
  {
   "cell_type": "markdown",
   "id": "7bc7106c",
   "metadata": {},
   "source": [
    "#### Using Modular 5 Arithmetic"
   ]
  },
  {
   "cell_type": "code",
   "execution_count": 15,
   "id": "5de0bf50",
   "metadata": {},
   "outputs": [],
   "source": [
    "Z5 = Integers(5)"
   ]
  },
  {
   "cell_type": "code",
   "execution_count": 18,
   "id": "001ce62b",
   "metadata": {},
   "outputs": [
    {
     "data": {
      "text/plain": [
       "2"
      ]
     },
     "execution_count": 18,
     "metadata": {},
     "output_type": "execute_result"
    }
   ],
   "source": [
    "Z5(3)**(5-2) # Z5(3)**(3)"
   ]
  },
  {
   "cell_type": "code",
   "execution_count": 19,
   "id": "a7ea24d2",
   "metadata": {},
   "outputs": [
    {
     "data": {
      "text/plain": [
       "2"
      ]
     },
     "execution_count": 19,
     "metadata": {},
     "output_type": "execute_result"
    }
   ],
   "source": [
    "Z5(3)**(-1)"
   ]
  },
  {
   "cell_type": "code",
   "execution_count": 20,
   "id": "c1c115b6",
   "metadata": {},
   "outputs": [
    {
     "data": {
      "text/plain": [
       "True"
      ]
     },
     "execution_count": 20,
     "metadata": {},
     "output_type": "execute_result"
    }
   ],
   "source": [
    "Z5(3)**(5-2) == Z5(3)**(-1)"
   ]
  }
 ],
 "metadata": {
  "kernelspec": {
   "display_name": "SageMath 10.1",
   "language": "sage",
   "name": "sagemath"
  },
  "language_info": {
   "codemirror_mode": {
    "name": "ipython",
    "version": 3
   },
   "file_extension": ".py",
   "mimetype": "text/x-python",
   "name": "python",
   "nbconvert_exporter": "python",
   "pygments_lexer": "ipython3",
   "version": "3.11.1"
  }
 },
 "nbformat": 4,
 "nbformat_minor": 5
}
