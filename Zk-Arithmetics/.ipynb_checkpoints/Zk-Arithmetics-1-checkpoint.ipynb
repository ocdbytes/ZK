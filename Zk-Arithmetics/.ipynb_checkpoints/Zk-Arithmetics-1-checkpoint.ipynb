{
 "cells": [
  {
   "cell_type": "markdown",
   "id": "b11557f2",
   "metadata": {},
   "source": [
    "### Basic Operations\n",
    "\n",
    "- General Representation of numbers\n",
    "- Basic ops"
   ]
  },
  {
   "cell_type": "code",
   "execution_count": 1,
   "id": "bb6a3fe8",
   "metadata": {},
   "outputs": [
    {
     "data": {
      "text/plain": [
       "Integer Ring"
      ]
     },
     "execution_count": 1,
     "metadata": {},
     "output_type": "execute_result"
    }
   ],
   "source": [
    "ZZ\n",
    "\n",
    "# ZZ : Sage notation for set of integers"
   ]
  },
  {
   "cell_type": "code",
   "execution_count": 2,
   "id": "2295d360",
   "metadata": {},
   "outputs": [
    {
     "data": {
      "text/plain": [
       "Non negative integer semiring"
      ]
     },
     "execution_count": 2,
     "metadata": {},
     "output_type": "execute_result"
    }
   ],
   "source": [
    "NN\n",
    "\n",
    "# NN : Sage notation for natural numbers"
   ]
  },
  {
   "cell_type": "code",
   "execution_count": 3,
   "id": "aae89b97",
   "metadata": {},
   "outputs": [
    {
     "data": {
      "text/plain": [
       "Rational Field"
      ]
     },
     "execution_count": 3,
     "metadata": {},
     "output_type": "execute_result"
    }
   ],
   "source": [
    "QQ\n",
    "\n",
    "# QQ : Sage notation for the set of rational numbers"
   ]
  },
  {
   "cell_type": "code",
   "execution_count": 5,
   "id": "125ad7a4",
   "metadata": {},
   "outputs": [
    {
     "data": {
      "text/plain": [
       "5"
      ]
     },
     "execution_count": 5,
     "metadata": {},
     "output_type": "execute_result"
    }
   ],
   "source": [
    "ZZ(5) # Getting an element 5 from set of integers"
   ]
  },
  {
   "cell_type": "code",
   "execution_count": 7,
   "id": "285efe18",
   "metadata": {},
   "outputs": [
    {
     "data": {
      "text/plain": [
       "8"
      ]
     },
     "execution_count": 7,
     "metadata": {},
     "output_type": "execute_result"
    }
   ],
   "source": [
    "ZZ(5) + ZZ(3)"
   ]
  },
  {
   "cell_type": "code",
   "execution_count": 8,
   "id": "39937309",
   "metadata": {},
   "outputs": [
    {
     "data": {
      "text/plain": [
       "15"
      ]
     },
     "execution_count": 8,
     "metadata": {},
     "output_type": "execute_result"
    }
   ],
   "source": [
    "ZZ(5) * NN(3)"
   ]
  },
  {
   "cell_type": "code",
   "execution_count": 16,
   "id": "676fc798",
   "metadata": {},
   "outputs": [
    {
     "data": {
      "text/plain": [
       "472680"
      ]
     },
     "execution_count": 16,
     "metadata": {},
     "output_type": "execute_result"
    }
   ],
   "source": [
    "ZZ.random_element(10 ** 6) # getting random number from 1 - 1000000 (set of integers)"
   ]
  },
  {
   "cell_type": "markdown",
   "id": "9f5a32a5",
   "metadata": {},
   "source": [
    "### Ops"
   ]
  },
  {
   "cell_type": "code",
   "execution_count": 17,
   "id": "41a5c397",
   "metadata": {},
   "outputs": [
    {
     "data": {
      "text/plain": [
       "2^3 * 3^2 * 7"
      ]
     },
     "execution_count": 17,
     "metadata": {},
     "output_type": "execute_result"
    }
   ],
   "source": [
    "# Factoring the number from set of natural numbers\n",
    "\n",
    "n = NN(504)\n",
    "factor(n)"
   ]
  },
  {
   "cell_type": "markdown",
   "id": "2d264263",
   "metadata": {},
   "source": [
    "#### Euclidean Division"
   ]
  },
  {
   "cell_type": "code",
   "execution_count": 18,
   "id": "de0edd67",
   "metadata": {},
   "outputs": [
    {
     "data": {
      "text/plain": [
       "-5"
      ]
     },
     "execution_count": 18,
     "metadata": {},
     "output_type": "execute_result"
    }
   ],
   "source": [
    "# Integer Quotient\n",
    "\n",
    "ZZ(-17) // ZZ(4)"
   ]
  },
  {
   "cell_type": "code",
   "execution_count": 19,
   "id": "9d8e4ea3",
   "metadata": {},
   "outputs": [
    {
     "data": {
      "text/plain": [
       "3"
      ]
     },
     "execution_count": 19,
     "metadata": {},
     "output_type": "execute_result"
    }
   ],
   "source": [
    "# Remainder\n",
    "\n",
    "ZZ(-17) % ZZ(4)"
   ]
  },
  {
   "cell_type": "code",
   "execution_count": 20,
   "id": "abbc59de",
   "metadata": {},
   "outputs": [
    {
     "data": {
      "text/plain": [
       "False"
      ]
     },
     "execution_count": 20,
     "metadata": {},
     "output_type": "execute_result"
    }
   ],
   "source": [
    "# Checking the truth value\n",
    "\n",
    "ZZ(4).divides(ZZ(-17))"
   ]
  },
  {
   "cell_type": "code",
   "execution_count": 21,
   "id": "c62c1539",
   "metadata": {},
   "outputs": [
    {
     "data": {
      "text/plain": [
       "True"
      ]
     },
     "execution_count": 21,
     "metadata": {},
     "output_type": "execute_result"
    }
   ],
   "source": [
    "ZZ(4).divides(ZZ(12))"
   ]
  },
  {
   "cell_type": "markdown",
   "id": "cb51a2a0",
   "metadata": {},
   "source": [
    "**Sometimes eucledean division can give different results**\n",
    "\n",
    "For eg :\n",
    "\n",
    "According to eucledean division\n",
    "\n",
    "```sh\n",
    "-17 div -4 = 5\n",
    "-17 mod -4 = 3\n",
    "=> -17 = 5.(-4) + 3\n",
    "```\n",
    "\n",
    "But if we implement it using sagemath the result would be really different :\n",
    "\n",
    "It will implement the normal division not the eucledean division."
   ]
  },
  {
   "cell_type": "code",
   "execution_count": 1,
   "id": "04a7e887",
   "metadata": {},
   "outputs": [
    {
     "data": {
      "text/plain": [
       "4"
      ]
     },
     "execution_count": 1,
     "metadata": {},
     "output_type": "execute_result"
    }
   ],
   "source": [
    "ZZ(-17) // ZZ(-4)"
   ]
  },
  {
   "cell_type": "code",
   "execution_count": 2,
   "id": "dc04185b",
   "metadata": {},
   "outputs": [
    {
     "data": {
      "text/plain": [
       "-1"
      ]
     },
     "execution_count": 2,
     "metadata": {},
     "output_type": "execute_result"
    }
   ],
   "source": [
    "ZZ(-17) % ZZ(-4)"
   ]
  },
  {
   "cell_type": "code",
   "execution_count": 3,
   "id": "8e689b11",
   "metadata": {},
   "outputs": [
    {
     "data": {
      "text/plain": [
       "(4, -1)"
      ]
     },
     "execution_count": 3,
     "metadata": {},
     "output_type": "execute_result"
    }
   ],
   "source": [
    "ZZ(-17).quo_rem(ZZ(-4)) # Not Eucledean Division"
   ]
  },
  {
   "cell_type": "markdown",
   "id": "1b14e7a1",
   "metadata": {},
   "source": [
    "**WARNING:**\n",
    "\n",
    "We need to be really careful while implementing the maths here because this can cause unwanted vulnerabilities in your zk circuits or your cryptography functions."
   ]
  },
  {
   "cell_type": "code",
   "execution_count": 2,
   "id": "4db9861c",
   "metadata": {},
   "outputs": [
    {
     "data": {
      "text/plain": [
       "(8457, 16)"
      ]
     },
     "execution_count": 2,
     "metadata": {},
     "output_type": "execute_result"
    }
   ],
   "source": [
    "ZZ(143785).quo_rem(ZZ(17))"
   ]
  },
  {
   "cell_type": "code",
   "execution_count": 3,
   "id": "e131c430",
   "metadata": {},
   "outputs": [
    {
     "data": {
      "text/plain": [
       "True"
      ]
     },
     "execution_count": 3,
     "metadata": {},
     "output_type": "execute_result"
    }
   ],
   "source": [
    "ZZ(143785) == ZZ(8457)*ZZ(17) + ZZ(16) # Check"
   ]
  },
  {
   "cell_type": "markdown",
   "id": "032c94e4",
   "metadata": {},
   "source": [
    "### GCD\n",
    "\n",
    "In order to calculate the greatest common divisor we will use extended eucleadean algorithm.\n",
    "\n",
    "It states that :\n",
    "\n",
    "gcd(a,b) = s.a + t.b\n",
    "\n",
    "`s` & `t` both are both bezout's identity. "
   ]
  },
  {
   "cell_type": "code",
   "execution_count": 1,
   "id": "ec8d24fd",
   "metadata": {},
   "outputs": [
    {
     "data": {
      "text/plain": [
       "(1, -2, 5)"
      ]
     },
     "execution_count": 1,
     "metadata": {},
     "output_type": "execute_result"
    }
   ],
   "source": [
    "ZZ(12).xgcd(ZZ(5)) # OUTPUT : (gcd(a,b), s , t)"
   ]
  },
  {
   "cell_type": "markdown",
   "id": "1d17f9c0",
   "metadata": {},
   "source": [
    "### Number Representation\n",
    "\n",
    "- Binary\n",
    "- Hexadecimal\n",
    "- Decimal\n",
    "\n",
    "Prefix : \n",
    "\n",
    "- Binary : 0b\n",
    "- Hexadecimal : 0x"
   ]
  },
  {
   "cell_type": "code",
   "execution_count": 2,
   "id": "8849786b",
   "metadata": {},
   "outputs": [
    {
     "data": {
      "text/plain": [
       "'110110001000001'"
      ]
     },
     "execution_count": 2,
     "metadata": {},
     "output_type": "execute_result"
    }
   ],
   "source": [
    "NN(27713).str(2) # Binary"
   ]
  },
  {
   "cell_type": "code",
   "execution_count": 3,
   "id": "cba45a91",
   "metadata": {},
   "outputs": [
    {
     "data": {
      "text/plain": [
       "'6c41'"
      ]
     },
     "execution_count": 3,
     "metadata": {},
     "output_type": "execute_result"
    }
   ],
   "source": [
    "ZZ(27713).str(16) # Hexadecimal"
   ]
  }
 ],
 "metadata": {
  "kernelspec": {
   "display_name": "SageMath 10.1",
   "language": "sage",
   "name": "sagemath"
  },
  "language_info": {
   "codemirror_mode": {
    "name": "ipython",
    "version": 3
   },
   "file_extension": ".py",
   "mimetype": "text/x-python",
   "name": "python",
   "nbconvert_exporter": "python",
   "pygments_lexer": "ipython3",
   "version": "3.11.1"
  }
 },
 "nbformat": 4,
 "nbformat_minor": 5
}
