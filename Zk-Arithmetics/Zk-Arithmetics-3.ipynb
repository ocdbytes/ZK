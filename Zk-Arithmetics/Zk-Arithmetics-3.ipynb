{
 "cells": [
  {
   "cell_type": "markdown",
   "id": "c12c2d5b",
   "metadata": {},
   "source": [
    "#### Polynomial arithmetic\n",
    "\n",
    "```sh\n",
    "P1(x) = 2x^2 − 4x + 17 # with deg(P1) = 2 and Lc(P1) = 2\n",
    "P5(x) = 1              # with deg(P5) = 0 and Lc(P5) = 1\n",
    "P6(x) = 0              # with deg(P6) = −∞ and Lc(P6) = 0\n",
    "```"
   ]
  },
  {
   "cell_type": "code",
   "execution_count": 2,
   "id": "276dc8a3",
   "metadata": {},
   "outputs": [],
   "source": [
    "Zx = ZZ['x'] # integer polynomials with indeterminate x\n",
    "Zt.<t> = ZZ[] # integer polynomials with indeterminate t"
   ]
  },
  {
   "cell_type": "code",
   "execution_count": 3,
   "id": "424b6088",
   "metadata": {},
   "outputs": [
    {
     "data": {
      "text/plain": [
       "Univariate Polynomial Ring in x over Integer Ring"
      ]
     },
     "execution_count": 3,
     "metadata": {},
     "output_type": "execute_result"
    }
   ],
   "source": [
    "Zx"
   ]
  },
  {
   "cell_type": "code",
   "execution_count": 4,
   "id": "4cad4858",
   "metadata": {},
   "outputs": [
    {
     "data": {
      "text/plain": [
       "Univariate Polynomial Ring in t over Integer Ring"
      ]
     },
     "execution_count": 4,
     "metadata": {},
     "output_type": "execute_result"
    }
   ],
   "source": [
    "Zt"
   ]
  },
  {
   "cell_type": "code",
   "execution_count": 5,
   "id": "673e0f87",
   "metadata": {},
   "outputs": [],
   "source": [
    "p1 = Zx([17,-4,2]) # declaring equation : 2*x^2 - 4*x + 17"
   ]
  },
  {
   "cell_type": "code",
   "execution_count": 6,
   "id": "05a0c4d4",
   "metadata": {},
   "outputs": [
    {
     "data": {
      "text/plain": [
       "2*x^2 - 4*x + 17"
      ]
     },
     "execution_count": 6,
     "metadata": {},
     "output_type": "execute_result"
    }
   ],
   "source": [
    "p1"
   ]
  },
  {
   "cell_type": "code",
   "execution_count": 7,
   "id": "c6e28c62",
   "metadata": {},
   "outputs": [
    {
     "data": {
      "text/plain": [
       "2"
      ]
     },
     "execution_count": 7,
     "metadata": {},
     "output_type": "execute_result"
    }
   ],
   "source": [
    "p1.degree()"
   ]
  },
  {
   "cell_type": "code",
   "execution_count": 8,
   "id": "412b22ea",
   "metadata": {},
   "outputs": [
    {
     "data": {
      "text/plain": [
       "2"
      ]
     },
     "execution_count": 8,
     "metadata": {},
     "output_type": "execute_result"
    }
   ],
   "source": [
    "p1.leading_coefficient()"
   ]
  },
  {
   "cell_type": "code",
   "execution_count": 9,
   "id": "b0f7b4af",
   "metadata": {},
   "outputs": [],
   "source": [
    "p2 = Zt(t^23) # declaring equation : t^23"
   ]
  },
  {
   "cell_type": "code",
   "execution_count": 10,
   "id": "ba0ee196",
   "metadata": {},
   "outputs": [
    {
     "data": {
      "text/plain": [
       "t^23"
      ]
     },
     "execution_count": 10,
     "metadata": {},
     "output_type": "execute_result"
    }
   ],
   "source": [
    "p2"
   ]
  },
  {
   "cell_type": "code",
   "execution_count": 11,
   "id": "3510fe94",
   "metadata": {},
   "outputs": [
    {
     "data": {
      "text/plain": [
       "0"
      ]
     },
     "execution_count": 11,
     "metadata": {},
     "output_type": "execute_result"
    }
   ],
   "source": [
    "p6 = Zx([0]) # declaring equation : 0"
   ]
  },
  {
   "cell_type": "code",
   "execution_count": 12,
   "id": "a9af4c7b",
   "metadata": {},
   "outputs": [
    {
     "data": {
      "text/plain": [
       "-1"
      ]
     },
     "execution_count": 12,
     "metadata": {},
     "output_type": "execute_result"
    }
   ],
   "source": [
    "p6.degree()"
   ]
  },
  {
   "cell_type": "code",
   "execution_count": 13,
   "id": "faa9d47c",
   "metadata": {},
   "outputs": [
    {
     "data": {
      "text/plain": [
       "0"
      ]
     },
     "execution_count": 13,
     "metadata": {},
     "output_type": "execute_result"
    }
   ],
   "source": [
    "p6.leading_coefficient()"
   ]
  },
  {
   "cell_type": "markdown",
   "id": "90b4d1e6",
   "metadata": {},
   "source": [
    "If we remember the Modular arithmetic,\n",
    "\n",
    "We know that in different arithmetics we have a variation of the multiplication and addition of the integers in that particular system.\n",
    "\n",
    "Now similarly we can also declare the polynomial equation in modular arithmetics.\n",
    "\n",
    "Example : \n",
    "\n",
    "```sh\n",
    "(x − 2)(x + 3)(x − 5) \n",
    "\n",
    "= (x + 4)(x + 3)(x + 1)      # additive inverses in Z6\n",
    "= (x^2 + 4x + 3x + 3·4)(x + 1) # bracket expansion\n",
    "= (x^2 + 1x + 0)(x + 1)      # computation in Z6 \n",
    "= x^3 + x^2 + x^2 + x        # bracket expansion\n",
    "= x^3 + 2x^2 + x\n",
    "\n",
    "[*] Here all the equations are being solved using Z6 arithmetics table\n",
    "```"
   ]
  },
  {
   "cell_type": "code",
   "execution_count": 15,
   "id": "ad72e08f",
   "metadata": {},
   "outputs": [
    {
     "data": {
      "text/plain": [
       "Univariate Polynomial Ring in x over Ring of integers modulo 6"
      ]
     },
     "execution_count": 15,
     "metadata": {},
     "output_type": "execute_result"
    }
   ],
   "source": [
    "Z6 = Integers(6)\n",
    "Z6x = Z6['x']\n",
    "Z6x"
   ]
  },
  {
   "cell_type": "code",
   "execution_count": 16,
   "id": "25ea4cc2",
   "metadata": {},
   "outputs": [
    {
     "data": {
      "text/plain": [
       "2*x^2 + 2*x + 5"
      ]
     },
     "execution_count": 16,
     "metadata": {},
     "output_type": "execute_result"
    }
   ],
   "source": [
    "p1 = Z6x([5,-4,2]) # 2x^2 + 2x + 5\n",
    "p1"
   ]
  },
  {
   "cell_type": "code",
   "execution_count": 18,
   "id": "9f7fba1b",
   "metadata": {},
   "outputs": [
    {
     "data": {
      "text/plain": [
       "2*x^2 + 2*x + 5"
      ]
     },
     "execution_count": 18,
     "metadata": {},
     "output_type": "execute_result"
    }
   ],
   "source": [
    "p2 = Z6x([17,-4,2]) # 2x^2 + 2x + 5\n",
    "p2"
   ]
  },
  {
   "cell_type": "markdown",
   "id": "c23c3d22",
   "metadata": {},
   "source": [
    "Now as we can see that both the equations are same but the coefficients given in the equations are different, this is due to the mathematics followed according to the modulo 6 arithmetics."
   ]
  },
  {
   "cell_type": "code",
   "execution_count": 19,
   "id": "388825fc",
   "metadata": {},
   "outputs": [
    {
     "data": {
      "text/plain": [
       "True"
      ]
     },
     "execution_count": 19,
     "metadata": {},
     "output_type": "execute_result"
    }
   ],
   "source": [
    "# here we are checking the equation calculation of :\n",
    "# (x−2)(x+3)(x−5) in Z6\n",
    "\n",
    "Z6x(x-2)*Z6x(x+3)*Z6x(x-5) == Z6x(x^3 + 2*x^2 + x)"
   ]
  },
  {
   "cell_type": "markdown",
   "id": "4d1d2085",
   "metadata": {},
   "source": [
    "#### Operation on polynomial equations\n",
    "\n",
    "- Addition\n",
    "- Multiplication\n",
    "\n",
    "**All the oprations can be done in modulo n arithmetics also using the addition and multiplication table.**"
   ]
  },
  {
   "cell_type": "code",
   "execution_count": 21,
   "id": "8e80b6d0",
   "metadata": {},
   "outputs": [
    {
     "data": {
      "text/plain": [
       "Univariate Polynomial Ring in x over Integer Ring"
      ]
     },
     "execution_count": 21,
     "metadata": {},
     "output_type": "execute_result"
    }
   ],
   "source": [
    "Zx = ZZ['x']\n",
    "Zx"
   ]
  },
  {
   "cell_type": "code",
   "execution_count": 22,
   "id": "44a2feb3",
   "metadata": {},
   "outputs": [],
   "source": [
    "P = Zx([2,-4,5])     # 5x^2 - 4x + 2\n",
    "Q = Zx([5,0,-2,1])   # x^3 - 2x^2 + 5"
   ]
  },
  {
   "cell_type": "code",
   "execution_count": 23,
   "id": "def6a52a",
   "metadata": {},
   "outputs": [
    {
     "data": {
      "text/plain": [
       "True"
      ]
     },
     "execution_count": 23,
     "metadata": {},
     "output_type": "execute_result"
    }
   ],
   "source": [
    "P+Q == Zx(x^3 +3*x^2 -4*x +7)"
   ]
  },
  {
   "cell_type": "code",
   "execution_count": 24,
   "id": "9b686dfa",
   "metadata": {},
   "outputs": [
    {
     "data": {
      "text/plain": [
       "True"
      ]
     },
     "execution_count": 24,
     "metadata": {},
     "output_type": "execute_result"
    }
   ],
   "source": [
    "P*Q == Zx(5*x^5 -14*x^4 +10*x^3+21*x^2-20*x +10)"
   ]
  },
  {
   "cell_type": "code",
   "execution_count": 25,
   "id": "e5cc1130",
   "metadata": {},
   "outputs": [
    {
     "data": {
      "text/plain": [
       "Univariate Polynomial Ring in x over Ring of integers modulo 6"
      ]
     },
     "execution_count": 25,
     "metadata": {},
     "output_type": "execute_result"
    }
   ],
   "source": [
    "# Modulo 6 Arithmetic System\n",
    "\n",
    "Z6x = Integers(6)['x']\n",
    "Z6x"
   ]
  },
  {
   "cell_type": "code",
   "execution_count": 26,
   "id": "c1cd653f",
   "metadata": {},
   "outputs": [],
   "source": [
    "P = Z6x([2,-4,5])\n",
    "Q = Z6x([5,0,-2,1])"
   ]
  },
  {
   "cell_type": "code",
   "execution_count": 27,
   "id": "032ded03",
   "metadata": {},
   "outputs": [
    {
     "data": {
      "text/plain": [
       "True"
      ]
     },
     "execution_count": 27,
     "metadata": {},
     "output_type": "execute_result"
    }
   ],
   "source": [
    "P+Q == Z6x(x^3 +3*x^2 +2*x +1)"
   ]
  },
  {
   "cell_type": "code",
   "execution_count": 28,
   "id": "709cfb51",
   "metadata": {},
   "outputs": [
    {
     "data": {
      "text/plain": [
       "True"
      ]
     },
     "execution_count": 28,
     "metadata": {},
     "output_type": "execute_result"
    }
   ],
   "source": [
    "P*Q == Z6x(5*x^5 +4*x^4 +4*x^3+3*x^2+4*x +4)"
   ]
  },
  {
   "cell_type": "markdown",
   "id": "c359ede5",
   "metadata": {},
   "source": [
    "#### Euclidean Division with polynomials\n",
    "\n",
    "We can generalize this to polynomials whenever the leading coefficient of the dividend polynomial has a notion of multiplicative inverse. In fact, given two polynomials A and B != 0 from R[x] such that Lc(B) − 1 exists in R, there exist two polynomials Q (the quotient) and P (the remainder), such that the following equation holds and deg(P) < deg(B):\n",
    "\n",
    "```sh\n",
    "A = Q·B+P\n",
    "\n",
    "A div B := Q, A mod B := P\n",
    "```\n",
    "\n",
    "```sh\n",
    "A(x) = x^5 + 2x^3 − 9\n",
    "Q(x) = x^3 − 4x^2 + 19x − 80\n",
    "P(x) = 339x − 89\n",
    "B(x) = x^2 + 4x − 1\n",
    "\n",
    "=> A(x) = Q(x)·B(x) + P(x)\n",
    "```"
   ]
  },
  {
   "cell_type": "code",
   "execution_count": 32,
   "id": "c1f67a47",
   "metadata": {},
   "outputs": [
    {
     "data": {
      "text/plain": [
       "Univariate Polynomial Ring in x over Integer Ring"
      ]
     },
     "execution_count": 32,
     "metadata": {},
     "output_type": "execute_result"
    }
   ],
   "source": [
    "Zx = ZZ['x']\n",
    "Zx"
   ]
  },
  {
   "cell_type": "code",
   "execution_count": 33,
   "id": "8a49b2bf",
   "metadata": {},
   "outputs": [
    {
     "data": {
      "text/plain": [
       "True"
      ]
     },
     "execution_count": 33,
     "metadata": {},
     "output_type": "execute_result"
    }
   ],
   "source": [
    "A = Zx([-9,0,0,2,0,1])     # x^5 + 2x^3 − 9\n",
    "B = Zx([-1,4,1])           # x^2 + 4x − 1\n",
    "Q = Zx([-80,19,-4,1])      # x^3 − 4x^2 + 19x − 80\n",
    "P = Zx([-89,339])          # 339x − 89\n",
    "\n",
    "A == Q*B + P"
   ]
  },
  {
   "cell_type": "markdown",
   "id": "2be2af9a",
   "metadata": {},
   "source": [
    "#### Prime factors in polynomials (irreducable polynomial)\n",
    "\n",
    "```sh\n",
    "To be more precise, let P ∈ R[x] be any polynomial.\n",
    "Then there always exist irreducible polynomials F1,F2,...,Fk ∈ R[x], \n",
    "such that the following holds:\n",
    "\n",
    "P = F1 ·F2 ·...·Fk\n",
    "```"
   ]
  },
  {
   "cell_type": "code",
   "execution_count": 34,
   "id": "0619be93",
   "metadata": {},
   "outputs": [
    {
     "data": {
      "text/plain": [
       "Univariate Polynomial Ring in x over Integer Ring"
      ]
     },
     "execution_count": 34,
     "metadata": {},
     "output_type": "execute_result"
    }
   ],
   "source": [
    "Zx = ZZ['x']\n",
    "Zx"
   ]
  },
  {
   "cell_type": "code",
   "execution_count": 56,
   "id": "76b5f0b6",
   "metadata": {},
   "outputs": [
    {
     "data": {
      "text/plain": [
       "x^2 - 3"
      ]
     },
     "execution_count": 56,
     "metadata": {},
     "output_type": "execute_result"
    }
   ],
   "source": [
    "p = Zx(x^2-3)\n",
    "p.factor()"
   ]
  },
  {
   "cell_type": "code",
   "execution_count": 58,
   "id": "294ec361",
   "metadata": {},
   "outputs": [
    {
     "data": {
      "text/plain": [
       "[(1, 1), (-1, 4)]"
      ]
     },
     "execution_count": 58,
     "metadata": {},
     "output_type": "execute_result"
    }
   ],
   "source": [
    "p = Zx(x^7 + 3*x^6 + 3*x^5 + x^4 - x^3 - 3*x^2 - 3*x - 1)\n",
    "p.roots()"
   ]
  },
  {
   "cell_type": "code",
   "execution_count": 59,
   "id": "fddb3d9b",
   "metadata": {},
   "outputs": [
    {
     "data": {
      "text/plain": [
       "(x - 1) * (x + 1)^4 * (x^2 + 1)"
      ]
     },
     "execution_count": 59,
     "metadata": {},
     "output_type": "execute_result"
    }
   ],
   "source": [
    "p.factor() # P = (x−1)(x+1)^4(x2 +1)"
   ]
  },
  {
   "cell_type": "markdown",
   "id": "eda3651e",
   "metadata": {},
   "source": [
    "#### Lagrange Interpolation\n",
    "\n",
    "polynomial of degree m is completely determined on m + 1 evaluation points, which implies that we can uniquely derive a polynomial of degree m from a set S:\n",
    "\n",
    "```sh\n",
    "S = {(x0,y0),(x1,y1),...,(xm,ym) | xi != xj for all indices i and j}\n",
    "```\n",
    "\n",
    "`m+1` pairs of points `(xi,yi) for xi != xj` are enough to determine the set of pairs `(x, P(x))` for all `x ∈ R`. \n",
    "This “few too many” property of polynomials is widely used, including in SNARKs."
   ]
  },
  {
   "cell_type": "code",
   "execution_count": 60,
   "id": "ab4a881e",
   "metadata": {},
   "outputs": [
    {
     "data": {
      "text/plain": [
       "Univariate Polynomial Ring in x over Rational Field"
      ]
     },
     "execution_count": 60,
     "metadata": {},
     "output_type": "execute_result"
    }
   ],
   "source": [
    "Qx = QQ['x']\n",
    "Qx"
   ]
  },
  {
   "cell_type": "code",
   "execution_count": 61,
   "id": "a54a0f8d",
   "metadata": {},
   "outputs": [
    {
     "data": {
      "text/plain": [
       "-1/2*x^2 + 1/2*x + 4"
      ]
     },
     "execution_count": 61,
     "metadata": {},
     "output_type": "execute_result"
    }
   ],
   "source": [
    "S=[(0,4),(-2,1),(2,3)]\n",
    "Qx.lagrange_polynomial(S)"
   ]
  },
  {
   "cell_type": "code",
   "execution_count": 62,
   "id": "5dd36c52",
   "metadata": {},
   "outputs": [
    {
     "data": {
      "text/plain": [
       "Finite Field of size 5"
      ]
     },
     "execution_count": 62,
     "metadata": {},
     "output_type": "execute_result"
    }
   ],
   "source": [
    "# in modulo 5 polynomial\n",
    "\n",
    "F5 = GF(5)\n",
    "F5"
   ]
  },
  {
   "cell_type": "code",
   "execution_count": 63,
   "id": "0d5a2c31",
   "metadata": {},
   "outputs": [
    {
     "data": {
      "text/plain": [
       "Univariate Polynomial Ring in x over Finite Field of size 5"
      ]
     },
     "execution_count": 63,
     "metadata": {},
     "output_type": "execute_result"
    }
   ],
   "source": [
    "F5x = F5['x']\n",
    "F5x"
   ]
  },
  {
   "cell_type": "code",
   "execution_count": 64,
   "id": "169c441d",
   "metadata": {},
   "outputs": [
    {
     "data": {
      "text/plain": [
       "2*x^2 + 3*x + 4"
      ]
     },
     "execution_count": 64,
     "metadata": {},
     "output_type": "execute_result"
    }
   ],
   "source": [
    "S=[(0,4),(-2,1),(2,3)]\n",
    "F5x.lagrange_polynomial(S)"
   ]
  }
 ],
 "metadata": {
  "kernelspec": {
   "display_name": "SageMath 10.1",
   "language": "sage",
   "name": "sagemath"
  },
  "language_info": {
   "codemirror_mode": {
    "name": "ipython",
    "version": 3
   },
   "file_extension": ".py",
   "mimetype": "text/x-python",
   "name": "python",
   "nbconvert_exporter": "python",
   "pygments_lexer": "ipython3",
   "version": "3.11.1"
  }
 },
 "nbformat": 4,
 "nbformat_minor": 5
}
