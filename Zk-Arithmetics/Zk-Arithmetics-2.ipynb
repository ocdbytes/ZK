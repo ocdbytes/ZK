{
 "cells": [
  {
   "cell_type": "markdown",
   "id": "22e9f757",
   "metadata": {},
   "source": [
    "# Modular Arithmetics\n",
    "\n",
    "Modular arithmetic helps in cryptography as it has applications in one-way functions which are neccassary in cryptography.\n",
    "\n",
    "Eg: \n",
    "\n",
    "if the clock shows that it is 11 o’clock, then 20 hours later it will be 7 o’clock, not 31 o’clock. The number 31 has no meaning on a normal clock that shows hours."
   ]
  },
  {
   "cell_type": "markdown",
   "id": "c8f8db92",
   "metadata": {},
   "source": [
    "### Fermat's Little Theorem\n",
    "\n",
    "It states that in modular arithmetic every number raised to the power of a prime number modulus is congruent to itself."
   ]
  },
  {
   "cell_type": "code",
   "execution_count": 1,
   "id": "f2f05988",
   "metadata": {},
   "outputs": [
    {
     "data": {
      "text/plain": [
       "1"
      ]
     },
     "execution_count": 1,
     "metadata": {},
     "output_type": "execute_result"
    }
   ],
   "source": [
    "# Proof \n",
    "# Prime number : 137\n",
    "ZZ(137).gcd(ZZ(64))"
   ]
  },
  {
   "cell_type": "code",
   "execution_count": 2,
   "id": "6eeb5f4c",
   "metadata": {},
   "outputs": [
    {
     "data": {
      "text/plain": [
       "True"
      ]
     },
     "execution_count": 2,
     "metadata": {},
     "output_type": "execute_result"
    }
   ],
   "source": [
    "ZZ(64)^ZZ(137) % ZZ(137) == ZZ(64) % ZZ(137)"
   ]
  },
  {
   "cell_type": "code",
   "execution_count": 3,
   "id": "e17a10b0",
   "metadata": {},
   "outputs": [
    {
     "data": {
      "text/plain": [
       "True"
      ]
     },
     "execution_count": 3,
     "metadata": {},
     "output_type": "execute_result"
    }
   ],
   "source": [
    "ZZ(64)^ZZ(137 - 1) % ZZ(137) == ZZ(1) % ZZ(137)"
   ]
  },
  {
   "cell_type": "code",
   "execution_count": 4,
   "id": "605724e9",
   "metadata": {},
   "outputs": [
    {
     "data": {
      "text/plain": [
       "137"
      ]
     },
     "execution_count": 4,
     "metadata": {},
     "output_type": "execute_result"
    }
   ],
   "source": [
    "# Not a prime number : 1918\n",
    "ZZ(1918).gcd(ZZ(137))"
   ]
  },
  {
   "cell_type": "code",
   "execution_count": 5,
   "id": "e7a79150",
   "metadata": {},
   "outputs": [
    {
     "data": {
      "text/plain": [
       "True"
      ]
     },
     "execution_count": 5,
     "metadata": {},
     "output_type": "execute_result"
    }
   ],
   "source": [
    "ZZ(1918)^ZZ(137) % ZZ(137) == ZZ(1918) % ZZ(137)"
   ]
  },
  {
   "cell_type": "code",
   "execution_count": 6,
   "id": "9c80f056",
   "metadata": {},
   "outputs": [
    {
     "data": {
      "text/plain": [
       "False"
      ]
     },
     "execution_count": 6,
     "metadata": {},
     "output_type": "execute_result"
    }
   ],
   "source": [
    "ZZ(1918)^ZZ(137 - 1) % ZZ(137) == ZZ(1) % ZZ(137)"
   ]
  },
  {
   "cell_type": "markdown",
   "id": "d745418c",
   "metadata": {},
   "source": [
    "```sh\n",
    "# Solving Equation :\n",
    "\n",
    "7.(2x + 21) + 11 ≡ x - 102 (mod 6)\n",
    "```"
   ]
  },
  {
   "cell_type": "code",
   "execution_count": 7,
   "id": "bf9f14b3",
   "metadata": {},
   "outputs": [
    {
     "data": {
      "text/plain": [
       "True"
      ]
     },
     "execution_count": 7,
     "metadata": {},
     "output_type": "execute_result"
    }
   ],
   "source": [
    "# for x : 4\n",
    "(ZZ(7)*(ZZ(2) * ZZ(4) + ZZ(21)) + ZZ(11)) % ZZ(6) == (ZZ(4) - ZZ(102)) % ZZ(6)"
   ]
  },
  {
   "cell_type": "code",
   "execution_count": 8,
   "id": "8a09d2c5",
   "metadata": {},
   "outputs": [
    {
     "data": {
      "text/plain": [
       "True"
      ]
     },
     "execution_count": 8,
     "metadata": {},
     "output_type": "execute_result"
    }
   ],
   "source": [
    "# for x : 10\n",
    "(ZZ(7)*(ZZ(2) * ZZ(10) + ZZ(21)) + ZZ(11)) % ZZ(6) == (ZZ(10) - ZZ(102)) % ZZ(6)"
   ]
  },
  {
   "cell_type": "markdown",
   "id": "4a8aa213",
   "metadata": {},
   "source": [
    "```sh\n",
    "\n",
    "# Solving Equation\n",
    "\n",
    "5x + 4 ≡ 28 + 2x (mod 13)\n",
    "\n",
    "```"
   ]
  },
  {
   "cell_type": "code",
   "execution_count": 19,
   "id": "1836535b",
   "metadata": {},
   "outputs": [
    {
     "data": {
      "text/plain": [
       "True"
      ]
     },
     "execution_count": 19,
     "metadata": {},
     "output_type": "execute_result"
    }
   ],
   "source": [
    "# for x : 8\n",
    "(ZZ(5)*ZZ(8) + ZZ(4)) % ZZ(13) == (ZZ(28) + ZZ(2)*ZZ(8)) % ZZ(13)"
   ]
  },
  {
   "cell_type": "code",
   "execution_count": 20,
   "id": "77905c5c",
   "metadata": {},
   "outputs": [
    {
     "data": {
      "text/plain": [
       "True"
      ]
     },
     "execution_count": 20,
     "metadata": {},
     "output_type": "execute_result"
    }
   ],
   "source": [
    "# for x : -5\n",
    "(ZZ(5)*ZZ(-5) + ZZ(4)) % ZZ(13) == (ZZ(28) + ZZ(2)*ZZ(-5)) % ZZ(13)"
   ]
  },
  {
   "cell_type": "code",
   "execution_count": null,
   "id": "d9149f30",
   "metadata": {},
   "outputs": [],
   "source": []
  }
 ],
 "metadata": {
  "kernelspec": {
   "display_name": "SageMath 10.1",
   "language": "sage",
   "name": "sagemath"
  },
  "language_info": {
   "codemirror_mode": {
    "name": "ipython",
    "version": 3
   },
   "file_extension": ".py",
   "mimetype": "text/x-python",
   "name": "python",
   "nbconvert_exporter": "python",
   "pygments_lexer": "ipython3",
   "version": "3.11.1"
  }
 },
 "nbformat": 4,
 "nbformat_minor": 5
}
